{
 "cells": [
  {
   "cell_type": "markdown",
   "metadata": {},
   "source": [
    "## Análisis de los datos\n",
    "\n",
    "### Carga de librerías y del conjunto de datos\n",
    "\n",
    "Importamos las librerías necesarias:"
   ]
  },
  {
   "cell_type": "code",
   "execution_count": 1,
   "metadata": {},
   "outputs": [],
   "source": [
    "import json\n",
    "import numpy as np\n",
    "import pandas as pd\n",
    "import matplotlib.pyplot as plt\n",
    "\n",
    "from scipy import stats as st\n",
    "from scipy.stats import levene, shapiro, ttest_ind, ttest_1samp\n",
    "from statsmodels.graphics.gofplots import qqplot"
   ]
  },
  {
   "cell_type": "markdown",
   "metadata": {},
   "source": [
    "Cargamos los datos limpiados:"
   ]
  },
  {
   "cell_type": "code",
   "execution_count": 2,
   "metadata": {},
   "outputs": [
    {
     "data": {
      "text/html": [
       "<div>\n",
       "<style scoped>\n",
       "    .dataframe tbody tr th:only-of-type {\n",
       "        vertical-align: middle;\n",
       "    }\n",
       "\n",
       "    .dataframe tbody tr th {\n",
       "        vertical-align: top;\n",
       "    }\n",
       "\n",
       "    .dataframe thead th {\n",
       "        text-align: right;\n",
       "    }\n",
       "</style>\n",
       "<table border=\"1\" class=\"dataframe\">\n",
       "  <thead>\n",
       "    <tr style=\"text-align: right;\">\n",
       "      <th></th>\n",
       "      <th>Unnamed: 0</th>\n",
       "      <th>_id</th>\n",
       "      <th>zipCode</th>\n",
       "      <th>buildingType</th>\n",
       "      <th>buildingSubtype</th>\n",
       "      <th>clientId</th>\n",
       "      <th>clientTypeId</th>\n",
       "      <th>dateOriginal</th>\n",
       "      <th>bathrooms</th>\n",
       "      <th>balcony</th>\n",
       "      <th>...</th>\n",
       "      <th>isPackPremiumPriority</th>\n",
       "      <th>isNewConstruction</th>\n",
       "      <th>hasOpenHouse</th>\n",
       "      <th>isOpportunity</th>\n",
       "      <th>minPrice</th>\n",
       "      <th>otherFeaturesCount</th>\n",
       "      <th>price</th>\n",
       "      <th>periodicityId</th>\n",
       "      <th>history</th>\n",
       "      <th>lastAccess</th>\n",
       "    </tr>\n",
       "  </thead>\n",
       "  <tbody>\n",
       "    <tr>\n",
       "      <th>0</th>\n",
       "      <td>0</td>\n",
       "      <td>1</td>\n",
       "      <td>28023.0</td>\n",
       "      <td>Flat</td>\n",
       "      <td>GroundFloorWithGarden</td>\n",
       "      <td>id-1</td>\n",
       "      <td>3.0</td>\n",
       "      <td>2022-02-24</td>\n",
       "      <td>2.0</td>\n",
       "      <td>0.0</td>\n",
       "      <td>...</td>\n",
       "      <td>True</td>\n",
       "      <td>False</td>\n",
       "      <td>False</td>\n",
       "      <td>False</td>\n",
       "      <td>0.0</td>\n",
       "      <td>15.0</td>\n",
       "      <td>1325.0</td>\n",
       "      <td>3.0</td>\n",
       "      <td>[{'date': '2022-04-04', 'price': 1325}]</td>\n",
       "      <td>2022-04-11 07:48:19.078000</td>\n",
       "    </tr>\n",
       "    <tr>\n",
       "      <th>1</th>\n",
       "      <td>1</td>\n",
       "      <td>2</td>\n",
       "      <td>28023.0</td>\n",
       "      <td>Flat</td>\n",
       "      <td>Flat</td>\n",
       "      <td>id-1</td>\n",
       "      <td>3.0</td>\n",
       "      <td>2022-02-23</td>\n",
       "      <td>2.0</td>\n",
       "      <td>0.0</td>\n",
       "      <td>...</td>\n",
       "      <td>True</td>\n",
       "      <td>False</td>\n",
       "      <td>False</td>\n",
       "      <td>False</td>\n",
       "      <td>0.0</td>\n",
       "      <td>15.0</td>\n",
       "      <td>1120.0</td>\n",
       "      <td>3.0</td>\n",
       "      <td>[{'date': '2022-04-04', 'price': 1120}]</td>\n",
       "      <td>2022-04-11 07:48:19.139000</td>\n",
       "    </tr>\n",
       "    <tr>\n",
       "      <th>2</th>\n",
       "      <td>2</td>\n",
       "      <td>3</td>\n",
       "      <td>28052.0</td>\n",
       "      <td>Flat</td>\n",
       "      <td>GroundFloorWithGarden</td>\n",
       "      <td>id-2</td>\n",
       "      <td>3.0</td>\n",
       "      <td>2022-03-10</td>\n",
       "      <td>2.0</td>\n",
       "      <td>0.0</td>\n",
       "      <td>...</td>\n",
       "      <td>True</td>\n",
       "      <td>False</td>\n",
       "      <td>False</td>\n",
       "      <td>False</td>\n",
       "      <td>0.0</td>\n",
       "      <td>18.0</td>\n",
       "      <td>1095.0</td>\n",
       "      <td>3.0</td>\n",
       "      <td>[{'date': '2022-04-04', 'price': 1095}]</td>\n",
       "      <td>2022-04-11 07:49:27.115000</td>\n",
       "    </tr>\n",
       "    <tr>\n",
       "      <th>3</th>\n",
       "      <td>3</td>\n",
       "      <td>4</td>\n",
       "      <td>28050.0</td>\n",
       "      <td>Flat</td>\n",
       "      <td>Flat</td>\n",
       "      <td>id-2</td>\n",
       "      <td>3.0</td>\n",
       "      <td>2022-03-01</td>\n",
       "      <td>2.0</td>\n",
       "      <td>0.0</td>\n",
       "      <td>...</td>\n",
       "      <td>True</td>\n",
       "      <td>False</td>\n",
       "      <td>False</td>\n",
       "      <td>False</td>\n",
       "      <td>0.0</td>\n",
       "      <td>17.0</td>\n",
       "      <td>1045.0</td>\n",
       "      <td>3.0</td>\n",
       "      <td>[{'date': '2022-04-04', 'price': 1045}]</td>\n",
       "      <td>2022-04-11 07:48:19.195000</td>\n",
       "    </tr>\n",
       "    <tr>\n",
       "      <th>4</th>\n",
       "      <td>4</td>\n",
       "      <td>5</td>\n",
       "      <td>28001.0</td>\n",
       "      <td>Flat</td>\n",
       "      <td>Flat</td>\n",
       "      <td>id-3</td>\n",
       "      <td>3.0</td>\n",
       "      <td>2022-02-24</td>\n",
       "      <td>3.0</td>\n",
       "      <td>1.0</td>\n",
       "      <td>...</td>\n",
       "      <td>True</td>\n",
       "      <td>False</td>\n",
       "      <td>False</td>\n",
       "      <td>False</td>\n",
       "      <td>0.0</td>\n",
       "      <td>19.0</td>\n",
       "      <td>6550.0</td>\n",
       "      <td>3.0</td>\n",
       "      <td>[{'date': '2022-04-04', 'price': 6550}]</td>\n",
       "      <td>2022-04-11 07:48:19.251000</td>\n",
       "    </tr>\n",
       "  </tbody>\n",
       "</table>\n",
       "<p>5 rows × 32 columns</p>\n",
       "</div>"
      ],
      "text/plain": [
       "   Unnamed: 0  _id  zipCode buildingType        buildingSubtype clientId  \\\n",
       "0           0    1  28023.0         Flat  GroundFloorWithGarden     id-1   \n",
       "1           1    2  28023.0         Flat                   Flat     id-1   \n",
       "2           2    3  28052.0         Flat  GroundFloorWithGarden     id-2   \n",
       "3           3    4  28050.0         Flat                   Flat     id-2   \n",
       "4           4    5  28001.0         Flat                   Flat     id-3   \n",
       "\n",
       "   clientTypeId dateOriginal  bathrooms  balcony  ...  isPackPremiumPriority  \\\n",
       "0           3.0   2022-02-24        2.0      0.0  ...                   True   \n",
       "1           3.0   2022-02-23        2.0      0.0  ...                   True   \n",
       "2           3.0   2022-03-10        2.0      0.0  ...                   True   \n",
       "3           3.0   2022-03-01        2.0      0.0  ...                   True   \n",
       "4           3.0   2022-02-24        3.0      1.0  ...                   True   \n",
       "\n",
       "   isNewConstruction  hasOpenHouse  isOpportunity  minPrice  \\\n",
       "0              False         False          False       0.0   \n",
       "1              False         False          False       0.0   \n",
       "2              False         False          False       0.0   \n",
       "3              False         False          False       0.0   \n",
       "4              False         False          False       0.0   \n",
       "\n",
       "   otherFeaturesCount   price  periodicityId  \\\n",
       "0                15.0  1325.0            3.0   \n",
       "1                15.0  1120.0            3.0   \n",
       "2                18.0  1095.0            3.0   \n",
       "3                17.0  1045.0            3.0   \n",
       "4                19.0  6550.0            3.0   \n",
       "\n",
       "                                   history                  lastAccess  \n",
       "0  [{'date': '2022-04-04', 'price': 1325}]  2022-04-11 07:48:19.078000  \n",
       "1  [{'date': '2022-04-04', 'price': 1120}]  2022-04-11 07:48:19.139000  \n",
       "2  [{'date': '2022-04-04', 'price': 1095}]  2022-04-11 07:49:27.115000  \n",
       "3  [{'date': '2022-04-04', 'price': 1045}]  2022-04-11 07:48:19.195000  \n",
       "4  [{'date': '2022-04-04', 'price': 6550}]  2022-04-11 07:48:19.251000  \n",
       "\n",
       "[5 rows x 32 columns]"
      ]
     },
     "execution_count": 2,
     "metadata": {},
     "output_type": "execute_result"
    }
   ],
   "source": [
    "dataset = pd.read_csv(\"../data/madrid-rent-prices_cleaned.csv\")\n",
    "dataset.head()"
   ]
  },
  {
   "cell_type": "markdown",
   "metadata": {},
   "source": [
    "### Análisis\n",
    "\n",
    "Lo primero que hacemos es definir una función que usaremos, y cuyo fin será mostrar las representaciones visuales para comprobar si los datos siguen una distribución normal:"
   ]
  },
  {
   "cell_type": "code",
   "execution_count": 3,
   "metadata": {},
   "outputs": [],
   "source": [
    "def visualizeNorm(title_fig, data):\n",
    "    plt.figure(figsize=(12,6))\n",
    "    plt.title(title_fig)\n",
    "    \n",
    "    ax1 = plt.subplot(1,2,1)\n",
    "    count, bins, ignored = plt.hist(data)\n",
    "    ax1.set_title('Histogram')\n",
    "    ax1.set_xlabel('Value bin')\n",
    "    ax1.set_ylabel('Frequency')\n",
    "\n",
    "    ax2 = plt.subplot(1,2,2)\n",
    "    qqplot(data, line='s', ax=ax2)\n",
    "    ax2.set_title('QQ Plot')\n",
    "\n",
    "    plt.show()"
   ]
  },
  {
   "cell_type": "markdown",
   "metadata": {},
   "source": [
    "También realizamos una función que nos aplique el test de Levene sobre dos conjuntos de datos y compruebe si estos tienen iguales varianzas o no:"
   ]
  },
  {
   "cell_type": "code",
   "execution_count": 4,
   "metadata": {},
   "outputs": [],
   "source": [
    "def showLeveneResult(data1, data2):\n",
    "    stat, p_value = levene(data1, data2)\n",
    "    print('Statistics=%.3f, p=%.3f' % (stat, p_value))\n",
    "    \n",
    "    alpha = 0.05\n",
    "    if p_value > alpha:\n",
    "        print('Equal variances')\n",
    "    else:\n",
    "        print('Unequal variances')\n",
    "        \n",
    "    print()"
   ]
  },
  {
   "cell_type": "markdown",
   "metadata": {},
   "source": [
    "Y finalmente, otra que nos muestre si aplicando el test de Shapiro-Wilk, la cual evalúa una muestra si los datos siguen una distribución gaussiana:"
   ]
  },
  {
   "cell_type": "code",
   "execution_count": 5,
   "metadata": {},
   "outputs": [],
   "source": [
    "def showShapiroWilkResult(data):\n",
    "    stat, p_value = shapiro(data)\n",
    "    print('Statistics=%.3f, p=%.3f' % (stat, p_value))\n",
    "    \n",
    "    alpha = 0.05\n",
    "    if p_value > alpha:\n",
    "        print('Gaussian Distributin')\n",
    "    else:\n",
    "        print('Non Gaussian Distribution')\n",
    "        \n",
    "    print()"
   ]
  },
  {
   "cell_type": "markdown",
   "metadata": {},
   "source": [
    "#### Particulares vs Inmobiliarias\n",
    "\n",
    "El primero de los análisis a llevar a cabo trata de ver si es más barato los inmuebles publicitados por particulares individualmente o por inmobiliaria. Dividimos los conjuntos y comprobamos su normalidad:"
   ]
  },
  {
   "cell_type": "code",
   "execution_count": 6,
   "metadata": {},
   "outputs": [
    {
     "data": {
      "text/plain": [
       "array([3., 1.])"
      ]
     },
     "execution_count": 6,
     "metadata": {},
     "output_type": "execute_result"
    }
   ],
   "source": [
    "pd.unique(dataset.clientTypeId)"
   ]
  },
  {
   "cell_type": "code",
   "execution_count": 7,
   "metadata": {},
   "outputs": [],
   "source": [
    "datasetParti = dataset[dataset.clientTypeId == 1]\n",
    "datasetInmob = dataset[dataset.clientTypeId == 3]"
   ]
  },
  {
   "cell_type": "markdown",
   "metadata": {},
   "source": [
    "Mostrando las representaciones visuales de ambos conjuntos de precios:"
   ]
  },
  {
   "cell_type": "code",
   "execution_count": 8,
   "metadata": {},
   "outputs": [
    {
     "data": {
      "image/png": "[encoded data removed]",
      "text/plain": [
       "<Figure size 864x432 with 2 Axes>"
      ]
     },
     "metadata": {
      "needs_background": "light"
     },
     "output_type": "display_data"
    },
    {
     "data": {
      "image/png": "[encoded data removed]",
      "text/plain": [
       "<Figure size 864x432 with 2 Axes>"
      ]
     },
     "metadata": {
      "needs_background": "light"
     },
     "output_type": "display_data"
    }
   ],
   "source": [
    "visualizeNorm('Part', datasetParti.price)\n",
    "visualizeNorm('Inmo', datasetInmob.price)"
   ]
  },
  {
   "cell_type": "markdown",
   "metadata": {},
   "source": [
    "Como se puede apreciar no sé puede visualmente definir su distribución como normal. Si aplicamos el test de Shapiro-Wilk:"
   ]
  },
  {
   "cell_type": "code",
   "execution_count": 9,
   "metadata": {},
   "outputs": [
    {
     "name": "stdout",
     "output_type": "stream",
     "text": [
      "Statistics=0.813, p=0.000\n",
      "Non Gaussian Distribution\n",
      "\n",
      "Statistics=0.678, p=0.000\n",
      "Non Gaussian Distribution\n",
      "\n"
     ]
    },
    {
     "name": "stderr",
     "output_type": "stream",
     "text": [
      "/Users/kevin/opt/anaconda3/lib/python3.8/site-packages/scipy/stats/morestats.py:1681: UserWarning: p-value may not be accurate for N > 5000.\n",
      "  warnings.warn(\"p-value may not be accurate for N > 5000.\")\n"
     ]
    }
   ],
   "source": [
    "showShapiroWilkResult(datasetParti.price)\n",
    "showShapiroWilkResult(datasetInmob.price)"
   ]
  },
  {
   "cell_type": "markdown",
   "metadata": {},
   "source": [
    "Vemos que nos refleja que ninguna de las dos sigue una distribución gaussiana. Observando el número de elementos existentes:"
   ]
  },
  {
   "cell_type": "code",
   "execution_count": 10,
   "metadata": {},
   "outputs": [
    {
     "name": "stdout",
     "output_type": "stream",
     "text": [
      "822\n",
      "6234\n"
     ]
    }
   ],
   "source": [
    "print(len(datasetParti.price))\n",
    "print(len(datasetInmob.price))"
   ]
  },
  {
   "cell_type": "markdown",
   "metadata": {},
   "source": [
    "A pesar de los resultados, como el conjunto de datos se compone de un número de registros suficientemente grande se puede aplicar el _teorema central del límite_ considerando que los datos siguen una distribución normal."
   ]
  },
  {
   "cell_type": "markdown",
   "metadata": {},
   "source": [
    "Para comprobar si existe alguna diferencia entre los precios de los anuncios de particulares y las de inmobiliaria, planteamos el siguiente contraste de hipótesis de dos muestras:\n",
    "\n",
    "\n",
    "H0 : _μ1_ = _μ2_\n",
    "\n",
    "H1 : _μ1_ < _μ2_\n",
    "\n",
    "\n",
    "Donde _μ1_ es la media del precio de los inmuebles publicitados por particulares y μ2 es la media de los inmuebles publicitados por inmobiliaria. Pero antes de proseguir comprobamos si las varianzas desconocidas de la población son iguales o no:"
   ]
  },
  {
   "cell_type": "code",
   "execution_count": 11,
   "metadata": {},
   "outputs": [
    {
     "name": "stdout",
     "output_type": "stream",
     "text": [
      "Statistics=118.579, p=0.000\n",
      "Unequal variances\n",
      "\n"
     ]
    }
   ],
   "source": [
    "showLeveneResult(datasetParti.price, datasetInmob.price)"
   ]
  },
  {
   "cell_type": "markdown",
   "metadata": {},
   "source": [
    "En este caso vemos que se rechaza la hipótesis nula ya que es inferior a 0.05, por lo que los grupos tienen varianzas desiguales. Ahora aplicamos el test de Welch’s t-test al establecer el paramétro _equal_var_ a _False_ y comprobar si existe alguna diferencia entre los precios."
   ]
  },
  {
   "cell_type": "code",
   "execution_count": 12,
   "metadata": {},
   "outputs": [
    {
     "data": {
      "text/plain": [
       "Ttest_indResult(statistic=-22.480117818587928, pvalue=5.066671369179183e-103)"
      ]
     },
     "execution_count": 12,
     "metadata": {},
     "output_type": "execute_result"
    }
   ],
   "source": [
    "ttest_ind(a=datasetParti.price, b=datasetInmob.price, equal_var=False)"
   ]
  },
  {
   "cell_type": "markdown",
   "metadata": {},
   "source": [
    "Vemos como no se puede  rechazar la hipótesis nula, ya que el p-value es mayor que el nivel de significancia 0.05, con lo que se concluye que no hay una diferencia significativa entre los inmuebles según quién lo publicita."
   ]
  },
  {
   "cell_type": "markdown",
   "metadata": {},
   "source": [
    "#### Anuncios PackPremiumPriority, sí o no\n",
    "\n",
    "El segundo de los análisis es ver si existe una diferencia de precios en los anuncios que utilizan el _PackPremiumPriority_ con los que no. Igual que antes, el primer paso es dividir los conjuntos:"
   ]
  },
  {
   "cell_type": "code",
   "execution_count": 13,
   "metadata": {},
   "outputs": [
    {
     "data": {
      "text/plain": [
       "array([ True, False])"
      ]
     },
     "execution_count": 13,
     "metadata": {},
     "output_type": "execute_result"
    }
   ],
   "source": [
    "pd.unique(dataset.isPackPremiumPriority)"
   ]
  },
  {
   "cell_type": "code",
   "execution_count": 14,
   "metadata": {},
   "outputs": [],
   "source": [
    "datasetPack = dataset[dataset.isPackPremiumPriority == True]\n",
    "datasetNoPack = dataset[dataset.isPackPremiumPriority == False]"
   ]
  },
  {
   "cell_type": "markdown",
   "metadata": {},
   "source": [
    "Mostramos las representaciones visuales de ambos conjuntos de precios:"
   ]
  },
  {
   "cell_type": "code",
   "execution_count": 15,
   "metadata": {},
   "outputs": [
    {
     "data": {
      "image/png": "[encoded data removed]",
      "text/plain": [
       "<Figure size 864x432 with 2 Axes>"
      ]
     },
     "metadata": {
      "needs_background": "light"
     },
     "output_type": "display_data"
    },
    {
     "data": {
      "image/png": "[encoded data removed]",
      "text/plain": [
       "<Figure size 864x432 with 2 Axes>"
      ]
     },
     "metadata": {
      "needs_background": "light"
     },
     "output_type": "display_data"
    }
   ],
   "source": [
    "visualizeNorm('Pack', datasetPack.price)\n",
    "visualizeNorm('No Pack', datasetNoPack.price)"
   ]
  },
  {
   "cell_type": "markdown",
   "metadata": {},
   "source": [
    "Vemos que tenemos un comportamiento similar al caso anterior y visualmente no se ve que sigan una distribución normal. A nivel del test Shapiro-Wilk:"
   ]
  },
  {
   "cell_type": "code",
   "execution_count": 16,
   "metadata": {},
   "outputs": [
    {
     "name": "stdout",
     "output_type": "stream",
     "text": [
      "Statistics=0.789, p=0.000\n",
      "Non Gaussian Distribution\n",
      "\n",
      "Statistics=0.664, p=0.000\n",
      "Non Gaussian Distribution\n",
      "\n"
     ]
    },
    {
     "name": "stderr",
     "output_type": "stream",
     "text": [
      "/Users/kevin/opt/anaconda3/lib/python3.8/site-packages/scipy/stats/morestats.py:1681: UserWarning: p-value may not be accurate for N > 5000.\n",
      "  warnings.warn(\"p-value may not be accurate for N > 5000.\")\n"
     ]
    }
   ],
   "source": [
    "showShapiroWilkResult(datasetPack.price)\n",
    "showShapiroWilkResult(datasetNoPack.price)"
   ]
  },
  {
   "cell_type": "markdown",
   "metadata": {},
   "source": [
    "Vemos que ocurre como en el caso anterior y corrobora lo que se ve en la visualización, no siguen una distribución gaussiana. Observando el número de registros de cada conjunto:\n",
    "\n",
    "\n",
    "\n"
   ]
  },
  {
   "cell_type": "code",
   "execution_count": 17,
   "metadata": {},
   "outputs": [
    {
     "name": "stdout",
     "output_type": "stream",
     "text": [
      "134\n",
      "6922\n"
     ]
    }
   ],
   "source": [
    "print(len(datasetPack.price))\n",
    "print(len(datasetNoPack.price))"
   ]
  },
  {
   "cell_type": "markdown",
   "metadata": {},
   "source": [
    "En este caso también podemos aplicar el _teorema central del límite_ considerando que los datos siguen una distribución normal ya que los conjuntos se componen de un número de registros suficientemente grande (N > 30)."
   ]
  },
  {
   "cell_type": "markdown",
   "metadata": {},
   "source": [
    "Para comprobar si existe alguna diferencia entre las viviendas con publicitadas con pack premium y las que no, planteamos el siguiente contraste de hipótesis de dos muestras:\n",
    "\n",
    "\n",
    "H0 : _μ1_ = _μ2_\n",
    "\n",
    "H1 : _μ1_ < _μ2_\n",
    "\n",
    "\n",
    "Donde _μ1_ es la media del precio de los inmuebles publicitados con pack premium y μ2 es la media de los inmuebles publicitados sin este pack."
   ]
  },
  {
   "cell_type": "code",
   "execution_count": 18,
   "metadata": {},
   "outputs": [
    {
     "name": "stdout",
     "output_type": "stream",
     "text": [
      "Statistics=0.232, p=0.630\n",
      "Equal variances\n",
      "\n"
     ]
    }
   ],
   "source": [
    "showLeveneResult(datasetPack.price, datasetNoPack.price)"
   ]
  },
  {
   "cell_type": "markdown",
   "metadata": {},
   "source": [
    "En este caso vemos que se acepta la hipótesis nula ya que es superior a 0.05, por lo que los grupos tienen varianzas iguales. Ahora aplicamos el test Student estableciendo el parámetro _equal_var_ a _True_ y comprobar si existe alguna diferencia entre estos precios."
   ]
  },
  {
   "cell_type": "code",
   "execution_count": 19,
   "metadata": {},
   "outputs": [
    {
     "data": {
      "text/plain": [
       "Ttest_indResult(statistic=0.8335528490808914, pvalue=0.40456122845518816)"
      ]
     },
     "execution_count": 19,
     "metadata": {},
     "output_type": "execute_result"
    }
   ],
   "source": [
    "ttest_ind(a=datasetPack.price, b=datasetNoPack.price, equal_var=True)"
   ]
  },
  {
   "cell_type": "markdown",
   "metadata": {},
   "source": [
    "Tenemos un p-value mayor que el nivel de significancia 0.05 no se puede rechazar la hipótesis nula, con lo que se concluye que no hay una diferencia significativa entre los inmuebles según los paquetes."
   ]
  },
  {
   "cell_type": "markdown",
   "metadata": {},
   "source": [
    "#### Esperar bajadas de precio\n",
    "\n",
    "Por último vamos a estudiar si existe una bajada de precios considerable en los 5 días que se recolectaron datos. Para ello creamos los conjuntos de datos según los valores existentes en la variable _history_, quedándonos con nuestro primer y último valor (solamente de los inmuebles que cambiaron su precio en esos días):"
   ]
  },
  {
   "cell_type": "code",
   "execution_count": 20,
   "metadata": {},
   "outputs": [],
   "source": [
    "evolution_list = json.loads(dataset.history.to_json())\n",
    "\n",
    "price_ini = []\n",
    "price_end = []\n",
    "\n",
    "for element in evolution_list:\n",
    "    evolution_rent = evolution_list[element].replace('[', '').replace(']', '').replace('\\'', '\"').replace('}, {', '},  {').split(',  ')\n",
    "    \n",
    "    if len(evolution_rent) > 2:\n",
    "        \n",
    "        price_ini.append(json.loads(evolution_rent[0])['price'])\n",
    "        price_end.append(json.loads(evolution_rent[-1])['price'])\n",
    "    \n",
    "    '''\n",
    "    evolution = []\n",
    "    for price in evolution_rent:\n",
    "        evolution.append(json.loads(price))\n",
    "        \n",
    "    evolution_list[element] = evolution\n",
    "    '''\n",
    "    \n",
    "price_ini = np.array(price_ini)\n",
    "price_end = np.array(price_end)"
   ]
  },
  {
   "cell_type": "code",
   "execution_count": 21,
   "metadata": {},
   "outputs": [
    {
     "data": {
      "image/png": "[encoded data removed]",
      "text/plain": [
       "<Figure size 864x432 with 2 Axes>"
      ]
     },
     "metadata": {
      "needs_background": "light"
     },
     "output_type": "display_data"
    },
    {
     "data": {
      "image/png": "[encoded data removed]",
      "text/plain": [
       "<Figure size 864x432 with 2 Axes>"
      ]
     },
     "metadata": {
      "needs_background": "light"
     },
     "output_type": "display_data"
    }
   ],
   "source": [
    "visualizeNorm('Inicial', price_ini)\n",
    "visualizeNorm('Final', price_end)"
   ]
  },
  {
   "cell_type": "markdown",
   "metadata": {},
   "source": [
    "En este caso, vemos que este subconjunto de inmuebles visualmente siguen una distribución más cercana a la normal. Aplicando el test Shapiro-Wilk:"
   ]
  },
  {
   "cell_type": "code",
   "execution_count": 22,
   "metadata": {},
   "outputs": [
    {
     "name": "stdout",
     "output_type": "stream",
     "text": [
      "Statistics=0.957, p=0.018\n",
      "Non Gaussian Distribution\n",
      "\n",
      "Statistics=0.961, p=0.031\n",
      "Non Gaussian Distribution\n",
      "\n"
     ]
    }
   ],
   "source": [
    "showShapiroWilkResult(price_ini)\n",
    "showShapiroWilkResult(price_end)"
   ]
  },
  {
   "cell_type": "markdown",
   "metadata": {},
   "source": [
    "Comprobamos que a pesar de que visualmente se vean más cercanos a la distribución normal no llegan a estarlo según el test aplicado."
   ]
  },
  {
   "cell_type": "code",
   "execution_count": 23,
   "metadata": {},
   "outputs": [
    {
     "name": "stdout",
     "output_type": "stream",
     "text": [
      "69\n",
      "69\n"
     ]
    }
   ],
   "source": [
    "print(len(price_ini))\n",
    "print(len(price_end))"
   ]
  },
  {
   "cell_type": "markdown",
   "metadata": {},
   "source": [
    "Si aplicamos el _teorema central del límite_ el conjunto de datos es suficientemente grande (N > 30) para considerar que siguen una distribución normal."
   ]
  },
  {
   "cell_type": "markdown",
   "metadata": {},
   "source": [
    "Para comprobar si existe alguna diferencia entre el antes y el después planteamos el siguiente contraste unilateral de hipótesis de dos muestras sobre la diferencia de medias:\n",
    "\n",
    "\n",
    "H0 : _μ1_ − _μ2_ = 0\n",
    "\n",
    "H1 : _μ1_ − _μ2_ < 0\n",
    "\n",
    "\n",
    "Donde _μ1_ es la media del precio inicial y μ2 es la media del precio final."
   ]
  },
  {
   "cell_type": "code",
   "execution_count": 24,
   "metadata": {},
   "outputs": [
    {
     "data": {
      "text/plain": [
       "Ttest_1sampResult(statistic=2.834859142111296, pvalue=0.9969841398500198)"
      ]
     },
     "execution_count": 24,
     "metadata": {},
     "output_type": "execute_result"
    }
   ],
   "source": [
    "ttest_1samp(a=price_ini - price_end, popmean=0, alternative='less')"
   ]
  },
  {
   "cell_type": "markdown",
   "metadata": {},
   "source": [
    "Debido a que el p-value es mayor que el nivel de significancia de 0.05 fijado no podemos rechazar la hipótesis nula, por lo que podemos concluir que la diferencia del precio de los alquileres no es diferente."
   ]
  },
  {
   "cell_type": "markdown",
   "metadata": {},
   "source": [
    "### Conclusiones finales\n",
    "\n",
    "A partir de aquí podemos concluir que si eres un usuario que busca un contrato de alquiler y queremos ahorrar no tenemos que preocuparnos por si el anuncio es de inmobiliaria o de un particular, ya que los precios no son significativamente diferentes. De igual forma pasa con los anuncios con pack premium y con los que no, a pesar de que la persona propietaria haya asumido este tipo de anuncio no influye en el precio del alquiler.\n",
    "\n",
    "Por último, vemos que en la evolución de los precios no hay diferencias en intervalos cortos de días, por lo que en el caso de encontrar un inmueble del cual se esté interesado es mejor proceder directamente a su alquiler sin esperar cambios en el precio."
   ]
  }
 ],
 "metadata": {
  "kernelspec": {
   "display_name": "Python 3",
   "language": "python",
   "name": "python3"
  },
  "language_info": {
   "codemirror_mode": {
    "name": "ipython",
    "version": 3
   },
   "file_extension": ".py",
   "mimetype": "text/x-python",
   "name": "python",
   "nbconvert_exporter": "python",
   "pygments_lexer": "ipython3",
   "version": "3.8.8"
  }
 },
 "nbformat": 4,
 "nbformat_minor": 4
}
