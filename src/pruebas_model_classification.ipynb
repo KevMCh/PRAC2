{
 "cells": [
  {
   "cell_type": "markdown",
   "id": "d9c69371-0bf5-45f6-8c22-7cc158cf8c00",
   "metadata": {},
   "source": [
    "# Utilizado para realizar pruebas\n",
    "\n",
    "Es la primera aproximación a resolver: ¿Se va a tardar menos de 4 días en alquilar?, el F1 Score que daba era muy bajo, posiblemente por falta de datos. Se abandona la idea y finalmente se hace regresión para calcular precio."
   ]
  },
  {
   "cell_type": "markdown",
   "id": "cf225836-2b3f-4464-9281-51e296220d30",
   "metadata": {},
   "source": [
    "## Modelo para resolución del problema\n",
    "\n",
    "Se va a aplicar un modelo supervisado de clasificación."
   ]
  },
  {
   "cell_type": "code",
   "execution_count": 1,
   "id": "db2b5a57-4389-475b-90ed-9fbc2f2255c1",
   "metadata": {},
   "outputs": [
    {
     "name": "stderr",
     "output_type": "stream",
     "text": [
      "ERROR 1: PROJ: proj_create_from_database: Open of /home/jose/miniconda3/envs/tdd_pra2/share/proj failed\n"
     ]
    }
   ],
   "source": [
    "import geopandas as gpd\n",
    "from io import StringIO\n",
    "from IPython.display import Image\n",
    "import matplotlib as mpl\n",
    "from matplotlib.colors import ListedColormap\n",
    "import matplotlib.pyplot as plt\n",
    "import numpy as np\n",
    "import pandas as pd\n",
    "#import pydotplus\n",
    "import seaborn as sns\n",
    "\n",
    "## Para el transformer BoolToNum\n",
    "from sklearn.base import BaseEstimator, TransformerMixin\n",
    "\n",
    "from sklearn.compose import make_column_transformer\n",
    "from sklearn.preprocessing import OneHotEncoder, StandardScaler\n",
    "from sklearn import svm\n",
    "from sklearn.ensemble import RandomForestClassifier, GradientBoostingClassifier, RandomForestRegressor\n",
    "from sklearn.metrics import confusion_matrix\n",
    "from sklearn.model_selection import train_test_split, GridSearchCV\n",
    "from sklearn.neighbors import KNeighborsClassifier\n",
    "from sklearn.tree import DecisionTreeClassifier, DecisionTreeRegressor, export_graphviz"
   ]
  },
  {
   "cell_type": "markdown",
   "id": "9922056d-c244-44d4-ae59-54fe0ec9f606",
   "metadata": {},
   "source": [
    "La utilización del formato parquet permite leer los datos del fichero y a la vez los formatos de los campos sin necesidad de inferirlos, ya que quedan grabados en el propio fichero."
   ]
  },
  {
   "cell_type": "code",
   "execution_count": 2,
   "id": "2e363350-49da-4db2-9903-5bee62ce93bb",
   "metadata": {},
   "outputs": [
    {
     "name": "stdout",
     "output_type": "stream",
     "text": [
      "<class 'pandas.core.frame.DataFrame'>\n",
      "Int64Index: 1406 entries, 6 to 6952\n",
      "Data columns (total 27 columns):\n",
      " #   Column                 Non-Null Count  Dtype          \n",
      "---  ------                 --------------  -----          \n",
      " 0   zipCode                1406 non-null   category       \n",
      " 1   buildingSubtype        1406 non-null   category       \n",
      " 2   clientTypeId           1406 non-null   category       \n",
      " 3   dateOriginal           1406 non-null   datetime64[ns] \n",
      " 4   bathrooms              1406 non-null   int8           \n",
      " 5   balcony                1406 non-null   int8           \n",
      " 6   air_conditioner        1406 non-null   int8           \n",
      " 7   heater                 1406 non-null   int8           \n",
      " 8   heating                1406 non-null   int8           \n",
      " 9   swimming_pool          1406 non-null   int8           \n",
      " 10  parking                1406 non-null   int8           \n",
      " 11  conservationState      1406 non-null   category       \n",
      " 12  floor                  1406 non-null   int8           \n",
      " 13  terrace                1406 non-null   int8           \n",
      " 14  elevator               1406 non-null   int8           \n",
      " 15  rooms                  1406 non-null   int8           \n",
      " 16  surface                1406 non-null   float64        \n",
      " 17  isHighlighted          1406 non-null   bool           \n",
      " 18  isPackPremiumPriority  1406 non-null   bool           \n",
      " 19  isNewConstruction      1406 non-null   bool           \n",
      " 20  isOpportunity          1406 non-null   bool           \n",
      " 21  otherFeaturesCount     1406 non-null   int64          \n",
      " 22  price                  1406 non-null   float64        \n",
      " 23  periodicityId          1406 non-null   category       \n",
      " 24  price_var              1406 non-null   int64          \n",
      " 25  publishedDays          190 non-null    timedelta64[ns]\n",
      " 26  target                 1406 non-null   bool           \n",
      "dtypes: bool(5), category(5), datetime64[ns](1), float64(2), int64(2), int8(11), timedelta64[ns](1)\n",
      "memory usage: 106.4 KB\n"
     ]
    }
   ],
   "source": [
    "alquiler = pd.read_parquet(\"../data/madrid-rent-prices_4-8_cleaned.parquet\")\n",
    "alquiler.info()"
   ]
  },
  {
   "cell_type": "markdown",
   "id": "660c217a-3318-4ce1-ba89-2919bada2549",
   "metadata": {},
   "source": [
    "De los datos leidos, se puede eliminar la variable _publishedDays_, ya que es redundante, esta variable contiene el número de días que ha estado publicado un anuncio eliminado, y tiene un significado equivalente a la variable target.\n",
    "También se elimina la columna _dateOriginal_"
   ]
  },
  {
   "cell_type": "code",
   "execution_count": 3,
   "id": "462c35b3-73f0-476e-a7b8-25f8b6a6b329",
   "metadata": {},
   "outputs": [],
   "source": [
    "alquiler.drop(['publishedDays','dateOriginal'], axis=1, inplace=True)"
   ]
  },
  {
   "cell_type": "code",
   "execution_count": 4,
   "id": "61257aaf-f58b-4745-9f9d-2a362e21a07b",
   "metadata": {},
   "outputs": [
    {
     "name": "stdout",
     "output_type": "stream",
     "text": [
      "<class 'pandas.core.frame.DataFrame'>\n",
      "Int64Index: 1406 entries, 6 to 6952\n",
      "Data columns (total 25 columns):\n",
      " #   Column                 Non-Null Count  Dtype   \n",
      "---  ------                 --------------  -----   \n",
      " 0   zipCode                1406 non-null   category\n",
      " 1   buildingSubtype        1406 non-null   category\n",
      " 2   clientTypeId           1406 non-null   category\n",
      " 3   bathrooms              1406 non-null   int8    \n",
      " 4   balcony                1406 non-null   int8    \n",
      " 5   air_conditioner        1406 non-null   int8    \n",
      " 6   heater                 1406 non-null   int8    \n",
      " 7   heating                1406 non-null   int8    \n",
      " 8   swimming_pool          1406 non-null   int8    \n",
      " 9   parking                1406 non-null   int8    \n",
      " 10  conservationState      1406 non-null   category\n",
      " 11  floor                  1406 non-null   int8    \n",
      " 12  terrace                1406 non-null   int8    \n",
      " 13  elevator               1406 non-null   int8    \n",
      " 14  rooms                  1406 non-null   int8    \n",
      " 15  surface                1406 non-null   float64 \n",
      " 16  isHighlighted          1406 non-null   bool    \n",
      " 17  isPackPremiumPriority  1406 non-null   bool    \n",
      " 18  isNewConstruction      1406 non-null   bool    \n",
      " 19  isOpportunity          1406 non-null   bool    \n",
      " 20  otherFeaturesCount     1406 non-null   int64   \n",
      " 21  price                  1406 non-null   float64 \n",
      " 22  periodicityId          1406 non-null   category\n",
      " 23  price_var              1406 non-null   int64   \n",
      " 24  target                 1406 non-null   bool    \n",
      "dtypes: bool(5), category(5), float64(2), int64(2), int8(11)\n",
      "memory usage: 84.4 KB\n"
     ]
    }
   ],
   "source": [
    "alquiler.info()"
   ]
  },
  {
   "cell_type": "markdown",
   "id": "3b3aaf7c-aa13-4db7-b2ed-1a2f64db50a7",
   "metadata": {},
   "source": [
    "### Transformar zipCode en lat,lon"
   ]
  },
  {
   "cell_type": "markdown",
   "id": "04089d46-3f2d-4657-a07e-9a42dcecaa3a",
   "metadata": {},
   "source": [
    "Para utilizar los códigos postales de forma efectiva en nuestro modelo los transformaremos a (latitud, longitud) del punto central al código postal.\n",
    "\n",
    "https://stats.stackexchange.com/questions/94902/how-to-represent-geography-or-zip-code-in-machine-learning-model-or-recommender\n"
   ]
  },
  {
   "cell_type": "code",
   "execution_count": 5,
   "id": "61939771-d87e-4a29-9629-3a5bf9cb1067",
   "metadata": {},
   "outputs": [
    {
     "data": {
      "text/plain": [
       "(370, 5)"
      ]
     },
     "execution_count": 5,
     "metadata": {},
     "output_type": "execute_result"
    }
   ],
   "source": [
    "madrid = gpd.read_file(\"../data/MADRID.geojson\")\n",
    "madrid.shape"
   ]
  },
  {
   "cell_type": "code",
   "execution_count": 6,
   "id": "aeb6b7a1-aa3e-4718-8e74-2137c8f82315",
   "metadata": {},
   "outputs": [
    {
     "data": {
      "text/plain": [
       "(55, 5)"
      ]
     },
     "execution_count": 6,
     "metadata": {},
     "output_type": "execute_result"
    }
   ],
   "source": [
    "madrid = madrid[madrid.COD_POSTAL.str.startswith(\"280\")]\n",
    "madrid.shape"
   ]
  },
  {
   "cell_type": "code",
   "execution_count": 7,
   "id": "5573f233-02b5-4f40-9564-c9a0c7bd4bab",
   "metadata": {},
   "outputs": [
    {
     "data": {
      "text/html": [
       "<div>\n",
       "<style scoped>\n",
       "    .dataframe tbody tr th:only-of-type {\n",
       "        vertical-align: middle;\n",
       "    }\n",
       "\n",
       "    .dataframe tbody tr th {\n",
       "        vertical-align: top;\n",
       "    }\n",
       "\n",
       "    .dataframe thead th {\n",
       "        text-align: right;\n",
       "    }\n",
       "</style>\n",
       "<table border=\"1\" class=\"dataframe\">\n",
       "  <thead>\n",
       "    <tr style=\"text-align: right;\">\n",
       "      <th></th>\n",
       "      <th>ID_CP</th>\n",
       "      <th>COD_POSTAL</th>\n",
       "      <th>ALTA_DB</th>\n",
       "      <th>CODIGO_INE</th>\n",
       "      <th>geometry</th>\n",
       "      <th>lon</th>\n",
       "      <th>lat</th>\n",
       "    </tr>\n",
       "  </thead>\n",
       "  <tbody>\n",
       "    <tr>\n",
       "      <th>0</th>\n",
       "      <td>2.807900e+11</td>\n",
       "      <td>28008</td>\n",
       "      <td>2015-07-09</td>\n",
       "      <td>28079</td>\n",
       "      <td>POLYGON ((-3.71876 40.43541, -3.71885 40.43479...</td>\n",
       "      <td>-414567.647802</td>\n",
       "      <td>4.928365e+06</td>\n",
       "    </tr>\n",
       "    <tr>\n",
       "      <th>7</th>\n",
       "      <td>2.807900e+11</td>\n",
       "      <td>28053</td>\n",
       "      <td>2015-07-09</td>\n",
       "      <td>28079</td>\n",
       "      <td>POLYGON ((-3.66055 40.39356, -3.66069 40.39331...</td>\n",
       "      <td>-408226.884733</td>\n",
       "      <td>4.920329e+06</td>\n",
       "    </tr>\n",
       "  </tbody>\n",
       "</table>\n",
       "</div>"
      ],
      "text/plain": [
       "          ID_CP COD_POSTAL     ALTA_DB  CODIGO_INE  \\\n",
       "0  2.807900e+11      28008  2015-07-09       28079   \n",
       "7  2.807900e+11      28053  2015-07-09       28079   \n",
       "\n",
       "                                            geometry            lon  \\\n",
       "0  POLYGON ((-3.71876 40.43541, -3.71885 40.43479... -414567.647802   \n",
       "7  POLYGON ((-3.66055 40.39356, -3.66069 40.39331... -408226.884733   \n",
       "\n",
       "            lat  \n",
       "0  4.928365e+06  \n",
       "7  4.920329e+06  "
      ]
     },
     "execution_count": 7,
     "metadata": {},
     "output_type": "execute_result"
    }
   ],
   "source": [
    "# Antes de transformar a lat, lon hay que proyectar el polígono\n",
    "center_zipCode = madrid['geometry'].to_crs(epsg=3857).centroid\n",
    "madrid['lon'] = center_zipCode.x\n",
    "madrid['lat'] = center_zipCode.y\n",
    "madrid[:2]"
   ]
  },
  {
   "cell_type": "code",
   "execution_count": 8,
   "id": "66475529-53e7-4adf-bb4f-72b4cce13dc5",
   "metadata": {},
   "outputs": [
    {
     "name": "stdout",
     "output_type": "stream",
     "text": [
      "(3,)\n",
      "(0,)\n"
     ]
    }
   ],
   "source": [
    "#Se han detectado códigos postales 28000 que no existen se transforman a 28001\n",
    "print(alquiler.loc[alquiler.zipCode==\"28000\",\"zipCode\"].shape)\n",
    "alquiler.loc[alquiler.zipCode==\"28000\",\"zipCode\"] = \"28001\"\n",
    "print(alquiler.loc[alquiler.zipCode==\"28000\",\"zipCode\"].shape)"
   ]
  },
  {
   "cell_type": "code",
   "execution_count": 9,
   "id": "5e452261-d2aa-479c-9834-7e5a017b7db3",
   "metadata": {},
   "outputs": [
    {
     "data": {
      "text/html": [
       "<div>\n",
       "<style scoped>\n",
       "    .dataframe tbody tr th:only-of-type {\n",
       "        vertical-align: middle;\n",
       "    }\n",
       "\n",
       "    .dataframe tbody tr th {\n",
       "        vertical-align: top;\n",
       "    }\n",
       "\n",
       "    .dataframe thead th {\n",
       "        text-align: right;\n",
       "    }\n",
       "</style>\n",
       "<table border=\"1\" class=\"dataframe\">\n",
       "  <thead>\n",
       "    <tr style=\"text-align: right;\">\n",
       "      <th></th>\n",
       "      <th>buildingSubtype</th>\n",
       "      <th>clientTypeId</th>\n",
       "      <th>bathrooms</th>\n",
       "      <th>balcony</th>\n",
       "      <th>air_conditioner</th>\n",
       "      <th>heater</th>\n",
       "      <th>heating</th>\n",
       "      <th>swimming_pool</th>\n",
       "      <th>parking</th>\n",
       "      <th>conservationState</th>\n",
       "      <th>...</th>\n",
       "      <th>isPackPremiumPriority</th>\n",
       "      <th>isNewConstruction</th>\n",
       "      <th>isOpportunity</th>\n",
       "      <th>otherFeaturesCount</th>\n",
       "      <th>price</th>\n",
       "      <th>periodicityId</th>\n",
       "      <th>price_var</th>\n",
       "      <th>target</th>\n",
       "      <th>lon</th>\n",
       "      <th>lat</th>\n",
       "    </tr>\n",
       "    <tr>\n",
       "      <th>index</th>\n",
       "      <th></th>\n",
       "      <th></th>\n",
       "      <th></th>\n",
       "      <th></th>\n",
       "      <th></th>\n",
       "      <th></th>\n",
       "      <th></th>\n",
       "      <th></th>\n",
       "      <th></th>\n",
       "      <th></th>\n",
       "      <th></th>\n",
       "      <th></th>\n",
       "      <th></th>\n",
       "      <th></th>\n",
       "      <th></th>\n",
       "      <th></th>\n",
       "      <th></th>\n",
       "      <th></th>\n",
       "      <th></th>\n",
       "      <th></th>\n",
       "      <th></th>\n",
       "    </tr>\n",
       "  </thead>\n",
       "  <tbody>\n",
       "    <tr>\n",
       "      <th>6</th>\n",
       "      <td>Flat</td>\n",
       "      <td>Inmob.</td>\n",
       "      <td>2</td>\n",
       "      <td>0</td>\n",
       "      <td>1</td>\n",
       "      <td>0</td>\n",
       "      <td>0</td>\n",
       "      <td>0</td>\n",
       "      <td>0</td>\n",
       "      <td>Desconocido</td>\n",
       "      <td>...</td>\n",
       "      <td>True</td>\n",
       "      <td>False</td>\n",
       "      <td>False</td>\n",
       "      <td>3</td>\n",
       "      <td>1320.0</td>\n",
       "      <td>Mensual</td>\n",
       "      <td>0</td>\n",
       "      <td>False</td>\n",
       "      <td>-405434.834792</td>\n",
       "      <td>4.930403e+06</td>\n",
       "    </tr>\n",
       "    <tr>\n",
       "      <th>7</th>\n",
       "      <td>Flat</td>\n",
       "      <td>Inmob.</td>\n",
       "      <td>2</td>\n",
       "      <td>0</td>\n",
       "      <td>0</td>\n",
       "      <td>0</td>\n",
       "      <td>0</td>\n",
       "      <td>0</td>\n",
       "      <td>0</td>\n",
       "      <td>Desconocido</td>\n",
       "      <td>...</td>\n",
       "      <td>True</td>\n",
       "      <td>False</td>\n",
       "      <td>False</td>\n",
       "      <td>3</td>\n",
       "      <td>1190.0</td>\n",
       "      <td>Mensual</td>\n",
       "      <td>0</td>\n",
       "      <td>False</td>\n",
       "      <td>-410499.337677</td>\n",
       "      <td>4.922888e+06</td>\n",
       "    </tr>\n",
       "    <tr>\n",
       "      <th>22</th>\n",
       "      <td>Flat</td>\n",
       "      <td>Inmob.</td>\n",
       "      <td>2</td>\n",
       "      <td>0</td>\n",
       "      <td>1</td>\n",
       "      <td>1</td>\n",
       "      <td>0</td>\n",
       "      <td>0</td>\n",
       "      <td>0</td>\n",
       "      <td>Bueno</td>\n",
       "      <td>...</td>\n",
       "      <td>True</td>\n",
       "      <td>False</td>\n",
       "      <td>False</td>\n",
       "      <td>6</td>\n",
       "      <td>2100.0</td>\n",
       "      <td>Mensual</td>\n",
       "      <td>0</td>\n",
       "      <td>True</td>\n",
       "      <td>-411521.557939</td>\n",
       "      <td>4.929051e+06</td>\n",
       "    </tr>\n",
       "  </tbody>\n",
       "</table>\n",
       "<p>3 rows × 26 columns</p>\n",
       "</div>"
      ],
      "text/plain": [
       "      buildingSubtype clientTypeId  bathrooms  balcony  air_conditioner  \\\n",
       "index                                                                     \n",
       "6                Flat       Inmob.          2        0                1   \n",
       "7                Flat       Inmob.          2        0                0   \n",
       "22               Flat       Inmob.          2        0                1   \n",
       "\n",
       "       heater  heating  swimming_pool  parking conservationState  ...  \\\n",
       "index                                                             ...   \n",
       "6           0        0              0        0       Desconocido  ...   \n",
       "7           0        0              0        0       Desconocido  ...   \n",
       "22          1        0              0        0             Bueno  ...   \n",
       "\n",
       "       isPackPremiumPriority  isNewConstruction  isOpportunity  \\\n",
       "index                                                            \n",
       "6                       True              False          False   \n",
       "7                       True              False          False   \n",
       "22                      True              False          False   \n",
       "\n",
       "       otherFeaturesCount   price  periodicityId  price_var  target  \\\n",
       "index                                                                 \n",
       "6                       3  1320.0        Mensual          0   False   \n",
       "7                       3  1190.0        Mensual          0   False   \n",
       "22                      6  2100.0        Mensual          0    True   \n",
       "\n",
       "                 lon           lat  \n",
       "index                               \n",
       "6     -405434.834792  4.930403e+06  \n",
       "7     -410499.337677  4.922888e+06  \n",
       "22    -411521.557939  4.929051e+06  \n",
       "\n",
       "[3 rows x 26 columns]"
      ]
     },
     "execution_count": 9,
     "metadata": {},
     "output_type": "execute_result"
    }
   ],
   "source": [
    "madrid = madrid.set_index('COD_POSTAL')\n",
    "\n",
    "# Incorporamos en alquiler lat, lon y eliminamos zipCode\n",
    "alquiler = alquiler.join(madrid[['lon', 'lat']], on=\"zipCode\")\\\n",
    "                   .drop('zipCode', axis=1)\n",
    "alquiler[:3]"
   ]
  },
  {
   "cell_type": "markdown",
   "id": "d13d30b6-bfe5-453b-a05e-8b931c060b3a",
   "metadata": {},
   "source": [
    "### Revisión periodidicidad de pago"
   ]
  },
  {
   "cell_type": "markdown",
   "id": "66d25198-9817-455a-a1f2-fd57604509f9",
   "metadata": {},
   "source": [
    "Una de las columnas es la periodicidad. Esta columna tiene la siguiente table de frecuencias"
   ]
  },
  {
   "cell_type": "code",
   "execution_count": 10,
   "id": "c31b9e5e-e656-49cc-beb6-b1907c684f2f",
   "metadata": {},
   "outputs": [
    {
     "data": {
      "text/plain": [
       "Mensual        1405\n",
       "Desconocido       1\n",
       "Name: periodicityId, dtype: int64"
      ]
     },
     "execution_count": 10,
     "metadata": {},
     "output_type": "execute_result"
    }
   ],
   "source": [
    "alquiler.periodicityId.value_counts()"
   ]
  },
  {
   "cell_type": "markdown",
   "id": "32850d6b-057d-42fa-87f5-55bec6145baf",
   "metadata": {},
   "source": [
    "Solo existe una fila con periodiciad _Desconocido_, vamos a ver sus datos y si encaja con una periodicidad de pago mensual, todas las filas tendrían en mismo valor, por tanto podríamos eliminar la variable"
   ]
  },
  {
   "cell_type": "code",
   "execution_count": 11,
   "id": "76658844-e27a-48cc-b9f3-af66a1408cff",
   "metadata": {},
   "outputs": [
    {
     "data": {
      "text/html": [
       "<div>\n",
       "<style scoped>\n",
       "    .dataframe tbody tr th:only-of-type {\n",
       "        vertical-align: middle;\n",
       "    }\n",
       "\n",
       "    .dataframe tbody tr th {\n",
       "        vertical-align: top;\n",
       "    }\n",
       "\n",
       "    .dataframe thead th {\n",
       "        text-align: right;\n",
       "    }\n",
       "</style>\n",
       "<table border=\"1\" class=\"dataframe\">\n",
       "  <thead>\n",
       "    <tr style=\"text-align: right;\">\n",
       "      <th></th>\n",
       "      <th>surface</th>\n",
       "      <th>price</th>\n",
       "    </tr>\n",
       "    <tr>\n",
       "      <th>index</th>\n",
       "      <th></th>\n",
       "      <th></th>\n",
       "    </tr>\n",
       "  </thead>\n",
       "  <tbody>\n",
       "    <tr>\n",
       "      <th>5359</th>\n",
       "      <td>55.0</td>\n",
       "      <td>745.8</td>\n",
       "    </tr>\n",
       "  </tbody>\n",
       "</table>\n",
       "</div>"
      ],
      "text/plain": [
       "       surface  price\n",
       "index                \n",
       "5359      55.0  745.8"
      ]
     },
     "execution_count": 11,
     "metadata": {},
     "output_type": "execute_result"
    }
   ],
   "source": [
    "alquiler.loc[alquiler.periodicityId==\"Desconocido\",('surface','price')]"
   ]
  },
  {
   "cell_type": "markdown",
   "id": "398dbcdf-2f31-4f6f-8a43-fe4e1f004523",
   "metadata": {},
   "source": [
    "Como se aprecia, cuadra perfectamente con un pago mensual de una renta, por lo que vamos a eliminar la columna."
   ]
  },
  {
   "cell_type": "code",
   "execution_count": 12,
   "id": "0ece65fd-d598-4b72-9ef6-c53c13210603",
   "metadata": {},
   "outputs": [],
   "source": [
    "alquiler.drop('periodicityId', axis=1, inplace=True)"
   ]
  },
  {
   "cell_type": "markdown",
   "id": "7cc451be-e471-4a03-a9d8-b8d83203bb26",
   "metadata": {},
   "source": [
    "### Separación en train y test"
   ]
  },
  {
   "cell_type": "code",
   "execution_count": 13,
   "id": "eeee4a44-e60f-4e78-a5e9-14bd436db3df",
   "metadata": {},
   "outputs": [
    {
     "data": {
      "text/plain": [
       "((1265, 24), (141, 24), (1265,), (141,))"
      ]
     },
     "execution_count": 13,
     "metadata": {},
     "output_type": "execute_result"
    }
   ],
   "source": [
    "Xtrain, Xtest, ytrain, ytest = train_test_split(alquiler.loc[:,alquiler.columns!=\"target\"], \n",
    "                                                alquiler.target, \n",
    "                                                test_size=0.1,\n",
    "                                                stratify=alquiler.target)\n",
    "\n",
    "Xtrain.shape, Xtest.shape, ytrain.shape, ytest.shape"
   ]
  },
  {
   "cell_type": "code",
   "execution_count": 14,
   "id": "0dde7e83-a71b-4d12-919d-ccacdf57f263",
   "metadata": {},
   "outputs": [
    {
     "name": "stdout",
     "output_type": "stream",
     "text": [
      "<class 'pandas.core.frame.DataFrame'>\n",
      "Int64Index: 1265 entries, 6308 to 6814\n",
      "Data columns (total 24 columns):\n",
      " #   Column                 Non-Null Count  Dtype   \n",
      "---  ------                 --------------  -----   \n",
      " 0   buildingSubtype        1265 non-null   category\n",
      " 1   clientTypeId           1265 non-null   category\n",
      " 2   bathrooms              1265 non-null   int8    \n",
      " 3   balcony                1265 non-null   int8    \n",
      " 4   air_conditioner        1265 non-null   int8    \n",
      " 5   heater                 1265 non-null   int8    \n",
      " 6   heating                1265 non-null   int8    \n",
      " 7   swimming_pool          1265 non-null   int8    \n",
      " 8   parking                1265 non-null   int8    \n",
      " 9   conservationState      1265 non-null   category\n",
      " 10  floor                  1265 non-null   int8    \n",
      " 11  terrace                1265 non-null   int8    \n",
      " 12  elevator               1265 non-null   int8    \n",
      " 13  rooms                  1265 non-null   int8    \n",
      " 14  surface                1265 non-null   float64 \n",
      " 15  isHighlighted          1265 non-null   bool    \n",
      " 16  isPackPremiumPriority  1265 non-null   bool    \n",
      " 17  isNewConstruction      1265 non-null   bool    \n",
      " 18  isOpportunity          1265 non-null   bool    \n",
      " 19  otherFeaturesCount     1265 non-null   int64   \n",
      " 20  price                  1265 non-null   float64 \n",
      " 21  price_var              1265 non-null   int64   \n",
      " 22  lon                    1265 non-null   float64 \n",
      " 23  lat                    1265 non-null   float64 \n",
      "dtypes: bool(4), category(3), float64(4), int64(2), int8(11)\n",
      "memory usage: 91.6 KB\n"
     ]
    }
   ],
   "source": [
    "Xtrain.info()"
   ]
  },
  {
   "cell_type": "code",
   "execution_count": 27,
   "id": "533baca8-01f1-4752-a7d2-0c91cfee735f",
   "metadata": {},
   "outputs": [
    {
     "data": {
      "text/plain": [
       "array([[ 0.        ,  0.        ,  0.        , ...,  0.02403377,\n",
       "        -0.98167478, -1.0431256 ],\n",
       "       [ 0.        ,  0.        ,  0.        , ...,  0.02403377,\n",
       "         0.09044355,  1.13919659],\n",
       "       [ 0.        ,  0.        ,  0.        , ...,  0.02403377,\n",
       "        -0.36894274, -0.14275646],\n",
       "       ...,\n",
       "       [ 0.        ,  0.        ,  0.        , ...,  0.02403377,\n",
       "         0.27496339,  0.51480477],\n",
       "       [ 1.        ,  0.        ,  0.        , ...,  0.02403377,\n",
       "         0.18256481, -0.35523496],\n",
       "       [ 0.        ,  0.        ,  1.        , ...,  0.02403377,\n",
       "        -0.29539833,  0.11803633]])"
      ]
     },
     "execution_count": 27,
     "metadata": {},
     "output_type": "execute_result"
    }
   ],
   "source": [
    "cat_cols = Xtrain.select_dtypes(\"category\").columns.to_list()\n",
    "num_cols = Xtrain.select_dtypes([\"number\", \"bool\"]).columns.to_list()\n",
    "transformer = make_column_transformer(\n",
    "    (OneHotEncoder(), cat_cols),\n",
    "    (StandardScaler(), num_cols),\n",
    "    remainder='passthrough')\n",
    "\n",
    "\n",
    "pipe = Pipeline([\n",
    "    (\"boolToNum\", BoolToNum()),\n",
    "    (\"transformer\", transformer)\n",
    "])\n",
    "\n",
    "pipe.fit_transform(Xtrain)"
   ]
  },
  {
   "cell_type": "markdown",
   "id": "51f82369-ec52-4384-8f92-a236b95ab794",
   "metadata": {},
   "source": [
    "### Construcción del pipeline\n"
   ]
  },
  {
   "cell_type": "code",
   "execution_count": 21,
   "id": "ce7b421f-7eb3-4994-b9c5-9dfd4bdaf6ed",
   "metadata": {},
   "outputs": [],
   "source": [
    "# Es una clase que se puede utilizar dentro de un pipeline para transformar \n",
    "# todas las col bool en numéricas.\n",
    "class BoolToNum (BaseEstimator, TransformerMixin):\n",
    "    def fit(self, X, y=None):\n",
    "        return self\n",
    "    def transform(self, X, y = None):\n",
    "        _X = X.copy()\n",
    "        for bcol in _X.select_dtypes(\"bool\").columns.to_list():\n",
    "            _X[bcol] = _X[bcol].replace({True: 1, False: 0})\n",
    "        return _X"
   ]
  },
  {
   "cell_type": "code",
   "execution_count": 28,
   "id": "96477881-3ef2-48d4-85e6-70498d9aa606",
   "metadata": {},
   "outputs": [],
   "source": [
    "from sklearn.metrics import f1_score, make_scorer, classification_report\n",
    "from sklearn.preprocessing import StandardScaler\n",
    "from sklearn.pipeline import Pipeline\n",
    "\n",
    "def best_model(estimator, params, \n",
    "               Xtrain=Xtrain, ytrain=ytrain, \n",
    "               scoring=\"f1\", return_train_score=False):\n",
    "\n",
    "    cat_cols = Xtrain.select_dtypes(\"category\").columns.to_list()\n",
    "    num_cols = Xtrain.select_dtypes([\"number\", \"bool\"]).columns.to_list()\n",
    "    transformer = make_column_transformer(\n",
    "        (OneHotEncoder(), cat_cols),\n",
    "        (StandardScaler(), num_cols),\n",
    "        remainder='passthrough')\n",
    "\n",
    "\n",
    "    pipe = Pipeline([\n",
    "        (\"boolToNum\", BoolToNum()),\n",
    "        (\"transformer\", transformer),\n",
    "        (\"estimator\", estimator)\n",
    "    ])\n",
    "\n",
    "    #adapta params para el paso 'estimator' del pipeline\n",
    "    params_ = {\"estimator__\"+k:v for k,v in params.items()}\n",
    "\n",
    "    clf = GridSearchCV(estimator=pipe, \n",
    "                    param_grid=params_, \n",
    "                    cv=4,\n",
    "                    return_train_score=return_train_score,\n",
    "                    scoring=scoring)\n",
    "\n",
    "    clf.fit(Xtrain, ytrain)\n",
    "\n",
    "    print(\"Best parameters:\")\n",
    "    print(f\"Métrica {clf.scoring}: {clf.best_score_:.2f}\")\n",
    "    print(f\"Parámetros: {clf.best_params_}\")\n",
    "    return clf"
   ]
  },
  {
   "cell_type": "code",
   "execution_count": 29,
   "id": "77c64ad9-dbd8-44ad-bc81-db218108e17a",
   "metadata": {},
   "outputs": [
    {
     "name": "stdout",
     "output_type": "stream",
     "text": [
      "Best parameters:\n",
      "Métrica f1: 0.20\n",
      "Parámetros: {'estimator__learning_rate': 1, 'estimator__n_estimators': 10}\n"
     ]
    }
   ],
   "source": [
    "\n",
    "\n",
    "params = {\n",
    "    'learning_rate': [0.01, 0.1, 1, 2],\n",
    "    'n_estimators': [10, 50, 100, 200]\n",
    "}\n",
    "clf_1_5 = best_model(GradientBoostingClassifier(), params)\n",
    "\n"
   ]
  },
  {
   "cell_type": "code",
   "execution_count": 31,
   "id": "02cc60d9-f0a7-4dd0-8bb9-6304f5286159",
   "metadata": {},
   "outputs": [
    {
     "data": {
      "image/png": "[encoded data removed]",
      "text/plain": [
       "<Figure size 432x288 with 2 Axes>"
      ]
     },
     "metadata": {
      "needs_background": "light"
     },
     "output_type": "display_data"
    }
   ],
   "source": [
    "\n",
    "\n",
    "from sklearn.metrics import plot_confusion_matrix\n",
    "plot_confusion_matrix(clf_1_5, Xtest, ytest)\n",
    "plt.title(\"Matriz confusión RandomForest {}\".format(clf_1_5.best_params_))\n",
    "plt.show()\n",
    "\n"
   ]
  },
  {
   "cell_type": "code",
   "execution_count": 30,
   "id": "8f6ac823-1e25-4022-bcb1-86ebe615770c",
   "metadata": {},
   "outputs": [
    {
     "name": "stdout",
     "output_type": "stream",
     "text": [
      "Best parameters:\n",
      "Métrica f1: 0.19\n",
      "Parámetros: {'estimator__n_neighbors': 1, 'estimator__weights': 'uniform'}\n"
     ]
    }
   ],
   "source": [
    "params = {\n",
    "    'n_neighbors': list(range(1,11)),\n",
    "    'weights': ['uniform', 'distance'] \n",
    "}\n",
    "clf_1_1 = best_model(KNeighborsClassifier(), params)"
   ]
  },
  {
   "cell_type": "code",
   "execution_count": null,
   "id": "980002be-ac5b-4df6-b9e8-2942cc190f21",
   "metadata": {},
   "outputs": [],
   "source": [
    "\n",
    "\n",
    "def heatmap_grid(model):\n",
    "    fig,ax = plt.subplots(facecolor='w', edgecolor='k')\n",
    "    from matplotlib.patches import Rectangle\n",
    "    df = pd.DataFrame(model.cv_results_[\"params\"])\n",
    "    df[\"f1\"] = model.cv_results_[\"mean_test_score\"]\n",
    "    cols = df.columns\n",
    "    df = pd.pivot_table(df, index=cols[0], \n",
    "                            columns=cols[1], \n",
    "                            values=\"f1\",\n",
    "                            aggfunc=np.sum)\n",
    "    g = sns.heatmap(df, \n",
    "                    annot=True, \n",
    "                    cmap=\"PuBuGn\",\n",
    "                    linewidth=1,\n",
    "                    fmt=\".3g\"\n",
    "                   )\n",
    "    \n",
    "    col, row = np.where(df == model.best_score_)\n",
    "    g.add_patch(Rectangle((row[0],col[0]),1,1, fill=False, edgecolor=\"yellow\", lw=5))\n",
    "    \n",
    "    \n",
    "    g.set_yticklabels(g.get_yticklabels(), rotation=0, horizontalalignment='right')\n",
    "    fontproperties = {'weight' : 'bold', 'size' : 15}\n",
    "    g.set_xlabel(g.get_xlabel().split(\"__\")[1], fontproperties)\n",
    "    g.set_ylabel(g.get_ylabel().split(\"__\")[1], fontproperties)\n",
    "    g.set_title (type(model.best_estimator_[\"estimator\"]).__name__+\".  F1 Score\", \n",
    "                 fontproperties)\n",
    "    plt.show()\n",
    "    \n",
    "heatmap_grid(clf_1_1)\n",
    "\n"
   ]
  }
 ],
 "metadata": {
  "kernelspec": {
   "display_name": "tdd_pra2",
   "language": "python",
   "name": "tdd_pra2"
  },
  "language_info": {
   "codemirror_mode": {
    "name": "ipython",
    "version": 3
   },
   "file_extension": ".py",
   "mimetype": "text/x-python",
   "name": "python",
   "nbconvert_exporter": "python",
   "pygments_lexer": "ipython3",
   "version": "3.8.13"
  }
 },
 "nbformat": 4,
 "nbformat_minor": 5
}
