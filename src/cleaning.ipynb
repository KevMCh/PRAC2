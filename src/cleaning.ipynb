{
 "cells": [
  {
   "cell_type": "markdown",
   "metadata": {},
   "source": [
    "## Limpieza de los datos\n",
    "\n",
    "### Carga de librerías y del conjunto de datos\n",
    "\n",
    "Importamos las librerías necesarias:"
   ]
  },
  {
   "cell_type": "code",
   "execution_count": 1,
   "metadata": {},
   "outputs": [],
   "source": [
    "import pandas as pd\n",
    "import matplotlib.pyplot as plt\n",
    "\n",
    "from sklearn.impute import KNNImputer"
   ]
  },
  {
   "cell_type": "markdown",
   "metadata": {},
   "source": [
    "Cargamos los datos originales:"
   ]
  },
  {
   "cell_type": "code",
   "execution_count": 2,
   "metadata": {},
   "outputs": [
    {
     "data": {
      "text/html": [
       "<div>\n",
       "<style scoped>\n",
       "    .dataframe tbody tr th:only-of-type {\n",
       "        vertical-align: middle;\n",
       "    }\n",
       "\n",
       "    .dataframe tbody tr th {\n",
       "        vertical-align: top;\n",
       "    }\n",
       "\n",
       "    .dataframe thead th {\n",
       "        text-align: right;\n",
       "    }\n",
       "</style>\n",
       "<table border=\"1\" class=\"dataframe\">\n",
       "  <thead>\n",
       "    <tr style=\"text-align: right;\">\n",
       "      <th></th>\n",
       "      <th>_id</th>\n",
       "      <th>zipCode</th>\n",
       "      <th>buildingType</th>\n",
       "      <th>buildingSubtype</th>\n",
       "      <th>clientId</th>\n",
       "      <th>clientTypeId</th>\n",
       "      <th>dateOriginal</th>\n",
       "      <th>bathrooms</th>\n",
       "      <th>balcony</th>\n",
       "      <th>air_conditioner</th>\n",
       "      <th>...</th>\n",
       "      <th>isPackPremiumPriority</th>\n",
       "      <th>isNewConstruction</th>\n",
       "      <th>hasOpenHouse</th>\n",
       "      <th>isOpportunity</th>\n",
       "      <th>minPrice</th>\n",
       "      <th>otherFeaturesCount</th>\n",
       "      <th>price</th>\n",
       "      <th>periodicityId</th>\n",
       "      <th>history</th>\n",
       "      <th>lastAccess</th>\n",
       "    </tr>\n",
       "  </thead>\n",
       "  <tbody>\n",
       "    <tr>\n",
       "      <th>0</th>\n",
       "      <td>1</td>\n",
       "      <td>28023.0</td>\n",
       "      <td>Flat</td>\n",
       "      <td>GroundFloorWithGarden</td>\n",
       "      <td>id-1</td>\n",
       "      <td>3</td>\n",
       "      <td>2022-02-24</td>\n",
       "      <td>2.0</td>\n",
       "      <td>NaN</td>\n",
       "      <td>NaN</td>\n",
       "      <td>...</td>\n",
       "      <td>True</td>\n",
       "      <td>False</td>\n",
       "      <td>False</td>\n",
       "      <td>False</td>\n",
       "      <td>0</td>\n",
       "      <td>15</td>\n",
       "      <td>1325.0</td>\n",
       "      <td>3</td>\n",
       "      <td>[{'date': '2022-04-04', 'price': 1325}]</td>\n",
       "      <td>2022-04-11 07:48:19.078000</td>\n",
       "    </tr>\n",
       "    <tr>\n",
       "      <th>1</th>\n",
       "      <td>2</td>\n",
       "      <td>28023.0</td>\n",
       "      <td>Flat</td>\n",
       "      <td>Flat</td>\n",
       "      <td>id-1</td>\n",
       "      <td>3</td>\n",
       "      <td>2022-02-23</td>\n",
       "      <td>2.0</td>\n",
       "      <td>NaN</td>\n",
       "      <td>NaN</td>\n",
       "      <td>...</td>\n",
       "      <td>True</td>\n",
       "      <td>False</td>\n",
       "      <td>False</td>\n",
       "      <td>False</td>\n",
       "      <td>0</td>\n",
       "      <td>15</td>\n",
       "      <td>1120.0</td>\n",
       "      <td>3</td>\n",
       "      <td>[{'date': '2022-04-04', 'price': 1120}]</td>\n",
       "      <td>2022-04-11 07:48:19.139000</td>\n",
       "    </tr>\n",
       "    <tr>\n",
       "      <th>2</th>\n",
       "      <td>3</td>\n",
       "      <td>28052.0</td>\n",
       "      <td>Flat</td>\n",
       "      <td>GroundFloorWithGarden</td>\n",
       "      <td>id-2</td>\n",
       "      <td>3</td>\n",
       "      <td>2022-03-10</td>\n",
       "      <td>2.0</td>\n",
       "      <td>NaN</td>\n",
       "      <td>NaN</td>\n",
       "      <td>...</td>\n",
       "      <td>True</td>\n",
       "      <td>False</td>\n",
       "      <td>False</td>\n",
       "      <td>False</td>\n",
       "      <td>0</td>\n",
       "      <td>18</td>\n",
       "      <td>1095.0</td>\n",
       "      <td>3</td>\n",
       "      <td>[{'date': '2022-04-04', 'price': 1095}]</td>\n",
       "      <td>2022-04-11 07:49:27.115000</td>\n",
       "    </tr>\n",
       "    <tr>\n",
       "      <th>3</th>\n",
       "      <td>4</td>\n",
       "      <td>28050.0</td>\n",
       "      <td>Flat</td>\n",
       "      <td>Flat</td>\n",
       "      <td>id-2</td>\n",
       "      <td>3</td>\n",
       "      <td>2022-03-01</td>\n",
       "      <td>2.0</td>\n",
       "      <td>NaN</td>\n",
       "      <td>NaN</td>\n",
       "      <td>...</td>\n",
       "      <td>True</td>\n",
       "      <td>False</td>\n",
       "      <td>False</td>\n",
       "      <td>False</td>\n",
       "      <td>0</td>\n",
       "      <td>17</td>\n",
       "      <td>1045.0</td>\n",
       "      <td>3</td>\n",
       "      <td>[{'date': '2022-04-04', 'price': 1045}]</td>\n",
       "      <td>2022-04-11 07:48:19.195000</td>\n",
       "    </tr>\n",
       "    <tr>\n",
       "      <th>4</th>\n",
       "      <td>5</td>\n",
       "      <td>28001.0</td>\n",
       "      <td>Flat</td>\n",
       "      <td>Flat</td>\n",
       "      <td>id-3</td>\n",
       "      <td>3</td>\n",
       "      <td>2022-02-24</td>\n",
       "      <td>3.0</td>\n",
       "      <td>1.0</td>\n",
       "      <td>1.0</td>\n",
       "      <td>...</td>\n",
       "      <td>True</td>\n",
       "      <td>False</td>\n",
       "      <td>False</td>\n",
       "      <td>False</td>\n",
       "      <td>0</td>\n",
       "      <td>19</td>\n",
       "      <td>6550.0</td>\n",
       "      <td>3</td>\n",
       "      <td>[{'date': '2022-04-04', 'price': 6550}]</td>\n",
       "      <td>2022-04-11 07:48:19.251000</td>\n",
       "    </tr>\n",
       "  </tbody>\n",
       "</table>\n",
       "<p>5 rows × 31 columns</p>\n",
       "</div>"
      ],
      "text/plain": [
       "   _id  zipCode buildingType        buildingSubtype clientId  clientTypeId  \\\n",
       "0    1  28023.0         Flat  GroundFloorWithGarden     id-1             3   \n",
       "1    2  28023.0         Flat                   Flat     id-1             3   \n",
       "2    3  28052.0         Flat  GroundFloorWithGarden     id-2             3   \n",
       "3    4  28050.0         Flat                   Flat     id-2             3   \n",
       "4    5  28001.0         Flat                   Flat     id-3             3   \n",
       "\n",
       "  dateOriginal  bathrooms  balcony  air_conditioner  ...  \\\n",
       "0   2022-02-24        2.0      NaN              NaN  ...   \n",
       "1   2022-02-23        2.0      NaN              NaN  ...   \n",
       "2   2022-03-10        2.0      NaN              NaN  ...   \n",
       "3   2022-03-01        2.0      NaN              NaN  ...   \n",
       "4   2022-02-24        3.0      1.0              1.0  ...   \n",
       "\n",
       "   isPackPremiumPriority  isNewConstruction  hasOpenHouse  isOpportunity  \\\n",
       "0                   True              False         False          False   \n",
       "1                   True              False         False          False   \n",
       "2                   True              False         False          False   \n",
       "3                   True              False         False          False   \n",
       "4                   True              False         False          False   \n",
       "\n",
       "   minPrice  otherFeaturesCount   price  periodicityId  \\\n",
       "0         0                  15  1325.0              3   \n",
       "1         0                  15  1120.0              3   \n",
       "2         0                  18  1095.0              3   \n",
       "3         0                  17  1045.0              3   \n",
       "4         0                  19  6550.0              3   \n",
       "\n",
       "                                   history                  lastAccess  \n",
       "0  [{'date': '2022-04-04', 'price': 1325}]  2022-04-11 07:48:19.078000  \n",
       "1  [{'date': '2022-04-04', 'price': 1120}]  2022-04-11 07:48:19.139000  \n",
       "2  [{'date': '2022-04-04', 'price': 1095}]  2022-04-11 07:49:27.115000  \n",
       "3  [{'date': '2022-04-04', 'price': 1045}]  2022-04-11 07:48:19.195000  \n",
       "4  [{'date': '2022-04-04', 'price': 6550}]  2022-04-11 07:48:19.251000  \n",
       "\n",
       "[5 rows x 31 columns]"
      ]
     },
     "execution_count": 2,
     "metadata": {},
     "output_type": "execute_result"
    }
   ],
   "source": [
    "dataset = pd.read_csv(\"../data/madrid-rent-prices_raw.csv\")\n",
    "dataset.head()"
   ]
  },
  {
   "cell_type": "markdown",
   "metadata": {},
   "source": [
    "### Valores nulos"
   ]
  },
  {
   "cell_type": "markdown",
   "metadata": {},
   "source": [
    "Lo primero que vamos a comprobar los valores nulos existentes en el dataset:"
   ]
  },
  {
   "cell_type": "code",
   "execution_count": 3,
   "metadata": {},
   "outputs": [
    {
     "data": {
      "text/plain": [
       "_id                         0\n",
       "zipCode                     1\n",
       "buildingType                0\n",
       "buildingSubtype             0\n",
       "clientId                    0\n",
       "clientTypeId                0\n",
       "dateOriginal                0\n",
       "bathrooms                  55\n",
       "balcony                  6197\n",
       "air_conditioner          2240\n",
       "heater                   2060\n",
       "heating                  6731\n",
       "swimming_pool            6451\n",
       "parking                  6383\n",
       "conservationState        3072\n",
       "floor                    2279\n",
       "terrace                  5363\n",
       "elevator                 2359\n",
       "rooms                     265\n",
       "surface                    33\n",
       "isHighlighted               0\n",
       "isPackPremiumPriority       0\n",
       "isNewConstruction           0\n",
       "hasOpenHouse                0\n",
       "isOpportunity               0\n",
       "minPrice                    0\n",
       "otherFeaturesCount          0\n",
       "price                      25\n",
       "periodicityId               0\n",
       "history                     0\n",
       "lastAccess                  0\n",
       "dtype: int64"
      ]
     },
     "execution_count": 3,
     "metadata": {},
     "output_type": "execute_result"
    }
   ],
   "source": [
    "dataset.isnull().sum()"
   ]
  },
  {
   "cell_type": "markdown",
   "metadata": {},
   "source": [
    "Lo primero que vemos es que ciertas características como _bathrooms_, _balcony_, _heater_, .. son obtenidas de valores específicos del alojamiento, y a la hora de crear el conjunto de datos si este no lo tiene no registro ningún valor:"
   ]
  },
  {
   "cell_type": "code",
   "execution_count": 4,
   "metadata": {},
   "outputs": [
    {
     "name": "stdout",
     "output_type": "stream",
     "text": [
      "bathrooms:\n",
      "[ 2.  3.  1.  5.  4. nan  6.  7.  8.]\n",
      "balcony:\n",
      "[nan  1.]\n",
      "air_conditioner:\n",
      "[nan  1.]\n",
      "heater:\n",
      "[nan  1.]\n",
      "heating:\n",
      "[nan  1.]\n",
      "swimming_pool:\n",
      "[nan  1.]\n",
      "parking:\n",
      "[nan  1.]\n",
      "conservationState:\n",
      "[ 1. nan  3.  2.  4.  8.]\n",
      "floor:\n",
      "[ 3.  6.  8.  7. nan 11.  9. 10. 21. 12. 14. 13.  1. 16. 15. 17.  2. 20.\n",
      "  5. 18.  4. 19.]\n",
      "terrace:\n",
      "[ 1. nan]\n",
      "elevator:\n",
      "[ 1. nan]\n",
      "rooms:\n",
      "[ 2.  3.  1.  5.  4. nan  7.  6.  9. 15.  8. 11.]\n"
     ]
    }
   ],
   "source": [
    "features = ['bathrooms', 'balcony', 'air_conditioner', 'heater', 'heating', 'swimming_pool', 'parking', 'conservationState', 'floor', 'terrace', 'elevator', 'rooms']\n",
    "\n",
    "for feat in features:\n",
    "    print(feat + ':')\n",
    "    print(pd.unique(dataset[feat]))"
   ]
  },
  {
   "cell_type": "markdown",
   "metadata": {},
   "source": [
    "Por ello vamos a definir estos valores a cero en cada una de estas las características:"
   ]
  },
  {
   "cell_type": "code",
   "execution_count": 5,
   "metadata": {},
   "outputs": [],
   "source": [
    "for feat in features:\n",
    "    dataset[feat] = dataset[feat].fillna(0)"
   ]
  },
  {
   "cell_type": "markdown",
   "metadata": {},
   "source": [
    "Por otro lado, tenemos en las variables _surface_, _zipCode_ y _price_ algunos valores que no quedaron registrados generando nulos. Para solventar esto aplicaremos una imputación de valores mediante el algoritmo KNN, observando los 5 valores más cercanos y asignando el valor que le corresponda. Todo esto bajo la premisa de que los registros más cercanos tendrán un valor semejante al real por lo que a través de ellos se puede imputar dicho valor.\n",
    "\n",
    "\n",
    "Para esto usaremos las variables numéricas que tiene el conjunto original debido a que el algoritmo KNN es un algoritmo que trabaja con distancias, por lo que es necesario aplicarlo usando valores numéricos:"
   ]
  },
  {
   "cell_type": "code",
   "execution_count": 6,
   "metadata": {},
   "outputs": [],
   "source": [
    "features2Imp = ['surface', 'zipCode', 'price']\n",
    "all_features = ['zipCode', 'clientTypeId', 'bathrooms', 'balcony', 'air_conditioner', 'heater', 'heating', 'swimming_pool', 'parking', 'conservationState', 'floor', 'terrace', 'elevator', 'rooms', 'surface', 'minPrice', 'otherFeaturesCount', 'price','periodicityId']\n",
    "\n",
    "knn = KNNImputer(n_neighbors=5)\n",
    "dataset[all_features] = knn.fit_transform(dataset[all_features])"
   ]
  },
  {
   "cell_type": "markdown",
   "metadata": {},
   "source": [
    "Con esto ya tenemos todos nuestros datos nulos imputados:"
   ]
  },
  {
   "cell_type": "code",
   "execution_count": 7,
   "metadata": {},
   "outputs": [
    {
     "data": {
      "text/plain": [
       "_id                      0\n",
       "zipCode                  0\n",
       "buildingType             0\n",
       "buildingSubtype          0\n",
       "clientId                 0\n",
       "clientTypeId             0\n",
       "dateOriginal             0\n",
       "bathrooms                0\n",
       "balcony                  0\n",
       "air_conditioner          0\n",
       "heater                   0\n",
       "heating                  0\n",
       "swimming_pool            0\n",
       "parking                  0\n",
       "conservationState        0\n",
       "floor                    0\n",
       "terrace                  0\n",
       "elevator                 0\n",
       "rooms                    0\n",
       "surface                  0\n",
       "isHighlighted            0\n",
       "isPackPremiumPriority    0\n",
       "isNewConstruction        0\n",
       "hasOpenHouse             0\n",
       "isOpportunity            0\n",
       "minPrice                 0\n",
       "otherFeaturesCount       0\n",
       "price                    0\n",
       "periodicityId            0\n",
       "history                  0\n",
       "lastAccess               0\n",
       "dtype: int64"
      ]
     },
     "execution_count": 7,
     "metadata": {},
     "output_type": "execute_result"
    }
   ],
   "source": [
    "dataset.isnull().sum()"
   ]
  },
  {
   "cell_type": "markdown",
   "metadata": {},
   "source": [
    "### Valores extremos"
   ]
  },
  {
   "cell_type": "markdown",
   "metadata": {},
   "source": [
    "A continuación el paso que hacemos es ver un resumen de las variables numéricas:"
   ]
  },
  {
   "cell_type": "code",
   "execution_count": 8,
   "metadata": {},
   "outputs": [
    {
     "data": {
      "text/html": [
       "<div>\n",
       "<style scoped>\n",
       "    .dataframe tbody tr th:only-of-type {\n",
       "        vertical-align: middle;\n",
       "    }\n",
       "\n",
       "    .dataframe tbody tr th {\n",
       "        vertical-align: top;\n",
       "    }\n",
       "\n",
       "    .dataframe thead th {\n",
       "        text-align: right;\n",
       "    }\n",
       "</style>\n",
       "<table border=\"1\" class=\"dataframe\">\n",
       "  <thead>\n",
       "    <tr style=\"text-align: right;\">\n",
       "      <th></th>\n",
       "      <th>_id</th>\n",
       "      <th>zipCode</th>\n",
       "      <th>clientTypeId</th>\n",
       "      <th>bathrooms</th>\n",
       "      <th>balcony</th>\n",
       "      <th>air_conditioner</th>\n",
       "      <th>heater</th>\n",
       "      <th>heating</th>\n",
       "      <th>swimming_pool</th>\n",
       "      <th>parking</th>\n",
       "      <th>conservationState</th>\n",
       "      <th>floor</th>\n",
       "      <th>terrace</th>\n",
       "      <th>elevator</th>\n",
       "      <th>rooms</th>\n",
       "      <th>surface</th>\n",
       "      <th>minPrice</th>\n",
       "      <th>otherFeaturesCount</th>\n",
       "      <th>price</th>\n",
       "      <th>periodicityId</th>\n",
       "    </tr>\n",
       "  </thead>\n",
       "  <tbody>\n",
       "    <tr>\n",
       "      <th>count</th>\n",
       "      <td>7062.000000</td>\n",
       "      <td>7062.000000</td>\n",
       "      <td>7062.000000</td>\n",
       "      <td>7062.000000</td>\n",
       "      <td>7062.000000</td>\n",
       "      <td>7062.000000</td>\n",
       "      <td>7062.000000</td>\n",
       "      <td>7062.000000</td>\n",
       "      <td>7062.000000</td>\n",
       "      <td>7062.000000</td>\n",
       "      <td>7062.000000</td>\n",
       "      <td>7062.000000</td>\n",
       "      <td>7062.000000</td>\n",
       "      <td>7062.000000</td>\n",
       "      <td>7062.000000</td>\n",
       "      <td>7062.000000</td>\n",
       "      <td>7062.0</td>\n",
       "      <td>7062.000000</td>\n",
       "      <td>7062.000000</td>\n",
       "      <td>7062.000000</td>\n",
       "    </tr>\n",
       "    <tr>\n",
       "      <th>mean</th>\n",
       "      <td>3531.500000</td>\n",
       "      <td>28018.494364</td>\n",
       "      <td>2.766922</td>\n",
       "      <td>1.568111</td>\n",
       "      <td>0.122487</td>\n",
       "      <td>0.682809</td>\n",
       "      <td>0.708298</td>\n",
       "      <td>0.046871</td>\n",
       "      <td>0.086519</td>\n",
       "      <td>0.096148</td>\n",
       "      <td>1.305013</td>\n",
       "      <td>4.963750</td>\n",
       "      <td>0.240583</td>\n",
       "      <td>0.665959</td>\n",
       "      <td>2.112716</td>\n",
       "      <td>94.221325</td>\n",
       "      <td>0.0</td>\n",
       "      <td>7.360804</td>\n",
       "      <td>1699.661088</td>\n",
       "      <td>2.989380</td>\n",
       "    </tr>\n",
       "    <tr>\n",
       "      <th>std</th>\n",
       "      <td>2038.768133</td>\n",
       "      <td>285.854103</td>\n",
       "      <td>0.641786</td>\n",
       "      <td>0.854749</td>\n",
       "      <td>0.327870</td>\n",
       "      <td>0.465415</td>\n",
       "      <td>0.454578</td>\n",
       "      <td>0.211377</td>\n",
       "      <td>0.281149</td>\n",
       "      <td>0.294816</td>\n",
       "      <td>1.543910</td>\n",
       "      <td>4.338246</td>\n",
       "      <td>0.427468</td>\n",
       "      <td>0.471688</td>\n",
       "      <td>1.156882</td>\n",
       "      <td>74.637184</td>\n",
       "      <td>0.0</td>\n",
       "      <td>5.075784</td>\n",
       "      <td>2707.013686</td>\n",
       "      <td>0.178192</td>\n",
       "    </tr>\n",
       "    <tr>\n",
       "      <th>min</th>\n",
       "      <td>1.000000</td>\n",
       "      <td>4621.000000</td>\n",
       "      <td>1.000000</td>\n",
       "      <td>0.000000</td>\n",
       "      <td>0.000000</td>\n",
       "      <td>0.000000</td>\n",
       "      <td>0.000000</td>\n",
       "      <td>0.000000</td>\n",
       "      <td>0.000000</td>\n",
       "      <td>0.000000</td>\n",
       "      <td>0.000000</td>\n",
       "      <td>0.000000</td>\n",
       "      <td>0.000000</td>\n",
       "      <td>0.000000</td>\n",
       "      <td>0.000000</td>\n",
       "      <td>1.000000</td>\n",
       "      <td>0.0</td>\n",
       "      <td>0.000000</td>\n",
       "      <td>375.000000</td>\n",
       "      <td>0.000000</td>\n",
       "    </tr>\n",
       "    <tr>\n",
       "      <th>25%</th>\n",
       "      <td>1766.250000</td>\n",
       "      <td>28007.000000</td>\n",
       "      <td>3.000000</td>\n",
       "      <td>1.000000</td>\n",
       "      <td>0.000000</td>\n",
       "      <td>0.000000</td>\n",
       "      <td>0.000000</td>\n",
       "      <td>0.000000</td>\n",
       "      <td>0.000000</td>\n",
       "      <td>0.000000</td>\n",
       "      <td>0.000000</td>\n",
       "      <td>0.000000</td>\n",
       "      <td>0.000000</td>\n",
       "      <td>0.000000</td>\n",
       "      <td>1.000000</td>\n",
       "      <td>55.000000</td>\n",
       "      <td>0.0</td>\n",
       "      <td>4.000000</td>\n",
       "      <td>900.000000</td>\n",
       "      <td>3.000000</td>\n",
       "    </tr>\n",
       "    <tr>\n",
       "      <th>50%</th>\n",
       "      <td>3531.500000</td>\n",
       "      <td>28016.000000</td>\n",
       "      <td>3.000000</td>\n",
       "      <td>1.000000</td>\n",
       "      <td>0.000000</td>\n",
       "      <td>1.000000</td>\n",
       "      <td>1.000000</td>\n",
       "      <td>0.000000</td>\n",
       "      <td>0.000000</td>\n",
       "      <td>0.000000</td>\n",
       "      <td>1.000000</td>\n",
       "      <td>6.000000</td>\n",
       "      <td>0.000000</td>\n",
       "      <td>1.000000</td>\n",
       "      <td>2.000000</td>\n",
       "      <td>75.000000</td>\n",
       "      <td>0.0</td>\n",
       "      <td>6.000000</td>\n",
       "      <td>1250.000000</td>\n",
       "      <td>3.000000</td>\n",
       "    </tr>\n",
       "    <tr>\n",
       "      <th>75%</th>\n",
       "      <td>5296.750000</td>\n",
       "      <td>28034.000000</td>\n",
       "      <td>3.000000</td>\n",
       "      <td>2.000000</td>\n",
       "      <td>0.000000</td>\n",
       "      <td>1.000000</td>\n",
       "      <td>1.000000</td>\n",
       "      <td>0.000000</td>\n",
       "      <td>0.000000</td>\n",
       "      <td>0.000000</td>\n",
       "      <td>2.000000</td>\n",
       "      <td>8.000000</td>\n",
       "      <td>0.000000</td>\n",
       "      <td>1.000000</td>\n",
       "      <td>3.000000</td>\n",
       "      <td>110.000000</td>\n",
       "      <td>0.0</td>\n",
       "      <td>10.000000</td>\n",
       "      <td>1903.000000</td>\n",
       "      <td>3.000000</td>\n",
       "    </tr>\n",
       "    <tr>\n",
       "      <th>max</th>\n",
       "      <td>7062.000000</td>\n",
       "      <td>33201.000000</td>\n",
       "      <td>3.000000</td>\n",
       "      <td>8.000000</td>\n",
       "      <td>1.000000</td>\n",
       "      <td>1.000000</td>\n",
       "      <td>1.000000</td>\n",
       "      <td>1.000000</td>\n",
       "      <td>1.000000</td>\n",
       "      <td>1.000000</td>\n",
       "      <td>8.000000</td>\n",
       "      <td>21.000000</td>\n",
       "      <td>1.000000</td>\n",
       "      <td>1.000000</td>\n",
       "      <td>15.000000</td>\n",
       "      <td>1700.000000</td>\n",
       "      <td>0.0</td>\n",
       "      <td>28.000000</td>\n",
       "      <td>170000.000000</td>\n",
       "      <td>3.000000</td>\n",
       "    </tr>\n",
       "  </tbody>\n",
       "</table>\n",
       "</div>"
      ],
      "text/plain": [
       "               _id       zipCode  clientTypeId    bathrooms      balcony  \\\n",
       "count  7062.000000   7062.000000   7062.000000  7062.000000  7062.000000   \n",
       "mean   3531.500000  28018.494364      2.766922     1.568111     0.122487   \n",
       "std    2038.768133    285.854103      0.641786     0.854749     0.327870   \n",
       "min       1.000000   4621.000000      1.000000     0.000000     0.000000   \n",
       "25%    1766.250000  28007.000000      3.000000     1.000000     0.000000   \n",
       "50%    3531.500000  28016.000000      3.000000     1.000000     0.000000   \n",
       "75%    5296.750000  28034.000000      3.000000     2.000000     0.000000   \n",
       "max    7062.000000  33201.000000      3.000000     8.000000     1.000000   \n",
       "\n",
       "       air_conditioner       heater      heating  swimming_pool      parking  \\\n",
       "count      7062.000000  7062.000000  7062.000000    7062.000000  7062.000000   \n",
       "mean          0.682809     0.708298     0.046871       0.086519     0.096148   \n",
       "std           0.465415     0.454578     0.211377       0.281149     0.294816   \n",
       "min           0.000000     0.000000     0.000000       0.000000     0.000000   \n",
       "25%           0.000000     0.000000     0.000000       0.000000     0.000000   \n",
       "50%           1.000000     1.000000     0.000000       0.000000     0.000000   \n",
       "75%           1.000000     1.000000     0.000000       0.000000     0.000000   \n",
       "max           1.000000     1.000000     1.000000       1.000000     1.000000   \n",
       "\n",
       "       conservationState        floor      terrace     elevator        rooms  \\\n",
       "count        7062.000000  7062.000000  7062.000000  7062.000000  7062.000000   \n",
       "mean            1.305013     4.963750     0.240583     0.665959     2.112716   \n",
       "std             1.543910     4.338246     0.427468     0.471688     1.156882   \n",
       "min             0.000000     0.000000     0.000000     0.000000     0.000000   \n",
       "25%             0.000000     0.000000     0.000000     0.000000     1.000000   \n",
       "50%             1.000000     6.000000     0.000000     1.000000     2.000000   \n",
       "75%             2.000000     8.000000     0.000000     1.000000     3.000000   \n",
       "max             8.000000    21.000000     1.000000     1.000000    15.000000   \n",
       "\n",
       "           surface  minPrice  otherFeaturesCount          price  periodicityId  \n",
       "count  7062.000000    7062.0         7062.000000    7062.000000    7062.000000  \n",
       "mean     94.221325       0.0            7.360804    1699.661088       2.989380  \n",
       "std      74.637184       0.0            5.075784    2707.013686       0.178192  \n",
       "min       1.000000       0.0            0.000000     375.000000       0.000000  \n",
       "25%      55.000000       0.0            4.000000     900.000000       3.000000  \n",
       "50%      75.000000       0.0            6.000000    1250.000000       3.000000  \n",
       "75%     110.000000       0.0           10.000000    1903.000000       3.000000  \n",
       "max    1700.000000       0.0           28.000000  170000.000000       3.000000  "
      ]
     },
     "execution_count": 8,
     "metadata": {},
     "output_type": "execute_result"
    }
   ],
   "source": [
    "dataset.describe()"
   ]
  },
  {
   "cell_type": "markdown",
   "metadata": {},
   "source": [
    "A partir de aquí trabajaremos con dos variables las cuales pueden tener determinados valores fuera de los normal. La primera de las variables a estudiar es nuestra variable *price*. Mostrando el diagrama de cajas vemos como existen dos puntos que superan el valor 100000, considerándolos _outliers_ (ya que se aleja bastante del 3 cuartil) obtenemos el siguiente resultado:"
   ]
  },
  {
   "cell_type": "code",
   "execution_count": 9,
   "metadata": {},
   "outputs": [
    {
     "data": {
      "text/plain": [
       "{'whiskers': [<matplotlib.lines.Line2D at 0x7f95bdb695e0>,\n",
       "  <matplotlib.lines.Line2D at 0x7f95bdb69940>],\n",
       " 'caps': [<matplotlib.lines.Line2D at 0x7f95bdb69ca0>,\n",
       "  <matplotlib.lines.Line2D at 0x7f95bdb72040>],\n",
       " 'boxes': [<matplotlib.lines.Line2D at 0x7f95bdb69280>],\n",
       " 'medians': [<matplotlib.lines.Line2D at 0x7f95bdb723a0>],\n",
       " 'fliers': [<matplotlib.lines.Line2D at 0x7f95bdb726a0>],\n",
       " 'means': []}"
      ]
     },
     "execution_count": 9,
     "metadata": {},
     "output_type": "execute_result"
    },
    {
     "data": {
      "image/png": "[encoded data removed]",
      "text/plain": [
       "<Figure size 432x288 with 1 Axes>"
      ]
     },
     "metadata": {
      "needs_background": "light"
     },
     "output_type": "display_data"
    }
   ],
   "source": [
    "fig, ax = plt.subplots()\n",
    "ax.set_title('Price')\n",
    "ax.boxplot(dataset.price)"
   ]
  },
  {
   "cell_type": "markdown",
   "metadata": {},
   "source": [
    "Si los eliminamos:"
   ]
  },
  {
   "cell_type": "code",
   "execution_count": 10,
   "metadata": {},
   "outputs": [],
   "source": [
    "dataset = dataset[dataset.price < 25000]"
   ]
  },
  {
   "cell_type": "code",
   "execution_count": 11,
   "metadata": {},
   "outputs": [
    {
     "data": {
      "text/plain": [
       "{'whiskers': [<matplotlib.lines.Line2D at 0x7f95bdbb1f10>,\n",
       "  <matplotlib.lines.Line2D at 0x7f95bdbbf2b0>],\n",
       " 'caps': [<matplotlib.lines.Line2D at 0x7f95bdbbf610>,\n",
       "  <matplotlib.lines.Line2D at 0x7f95bdbbf970>],\n",
       " 'boxes': [<matplotlib.lines.Line2D at 0x7f95bdbb1bb0>],\n",
       " 'medians': [<matplotlib.lines.Line2D at 0x7f95bdbbfcd0>],\n",
       " 'fliers': [<matplotlib.lines.Line2D at 0x7f95bdbbffd0>],\n",
       " 'means': []}"
      ]
     },
     "execution_count": 11,
     "metadata": {},
     "output_type": "execute_result"
    },
    {
     "data": {
      "image/png": "[encoded data removed]",
      "text/plain": [
       "<Figure size 432x288 with 1 Axes>"
      ]
     },
     "metadata": {
      "needs_background": "light"
     },
     "output_type": "display_data"
    }
   ],
   "source": [
    "fig, ax = plt.subplots()\n",
    "ax.set_title('Price')\n",
    "ax.boxplot(dataset.price)"
   ]
  },
  {
   "cell_type": "markdown",
   "metadata": {},
   "source": [
    "Con esto podemos ver que existen valores que siguen superando este nuevo tercer cuartil pero, están mucho más cerca del comportamiento global."
   ]
  },
  {
   "cell_type": "markdown",
   "metadata": {},
   "source": [
    "En el caso de la segunda variable, la variable *surface*, vemos que existen algunos valores que también se alejan por la parte superior del conjunto global:"
   ]
  },
  {
   "cell_type": "code",
   "execution_count": 12,
   "metadata": {},
   "outputs": [
    {
     "data": {
      "text/plain": [
       "{'whiskers': [<matplotlib.lines.Line2D at 0x7f95bdb5d6a0>,\n",
       "  <matplotlib.lines.Line2D at 0x7f95bdb5da00>],\n",
       " 'caps': [<matplotlib.lines.Line2D at 0x7f95bdb5dd60>,\n",
       "  <matplotlib.lines.Line2D at 0x7f95bdaea100>],\n",
       " 'boxes': [<matplotlib.lines.Line2D at 0x7f95bdb5d340>],\n",
       " 'medians': [<matplotlib.lines.Line2D at 0x7f95bdaea460>],\n",
       " 'fliers': [<matplotlib.lines.Line2D at 0x7f95bdaea760>],\n",
       " 'means': []}"
      ]
     },
     "execution_count": 12,
     "metadata": {},
     "output_type": "execute_result"
    },
    {
     "data": {
      "image/png": "[encoded data removed]",
      "text/plain": [
       "<Figure size 432x288 with 1 Axes>"
      ]
     },
     "metadata": {
      "needs_background": "light"
     },
     "output_type": "display_data"
    }
   ],
   "source": [
    "fig, ax = plt.subplots()\n",
    "ax.set_title('Surface')\n",
    "ax.boxplot(dataset.surface)"
   ]
  },
  {
   "cell_type": "markdown",
   "metadata": {},
   "source": [
    "Por esto mismo, eliminamos estos valores extremos:"
   ]
  },
  {
   "cell_type": "code",
   "execution_count": 13,
   "metadata": {},
   "outputs": [],
   "source": [
    "dataset = dataset[dataset.surface < 1000]"
   ]
  },
  {
   "cell_type": "code",
   "execution_count": 14,
   "metadata": {},
   "outputs": [
    {
     "data": {
      "text/plain": [
       "{'whiskers': [<matplotlib.lines.Line2D at 0x7f95bd72fb20>,\n",
       "  <matplotlib.lines.Line2D at 0x7f95bd72feb0>],\n",
       " 'caps': [<matplotlib.lines.Line2D at 0x7f95bd73c250>,\n",
       "  <matplotlib.lines.Line2D at 0x7f95bd73c5b0>],\n",
       " 'boxes': [<matplotlib.lines.Line2D at 0x7f95bd72f7c0>],\n",
       " 'medians': [<matplotlib.lines.Line2D at 0x7f95bd73c910>],\n",
       " 'fliers': [<matplotlib.lines.Line2D at 0x7f95bd73cc10>],\n",
       " 'means': []}"
      ]
     },
     "execution_count": 14,
     "metadata": {},
     "output_type": "execute_result"
    },
    {
     "data": {
      "image/png": "[encoded data removed]",
      "text/plain": [
       "<Figure size 432x288 with 1 Axes>"
      ]
     },
     "metadata": {
      "needs_background": "light"
     },
     "output_type": "display_data"
    }
   ],
   "source": [
    "fig, ax = plt.subplots()\n",
    "ax.set_title('Surface')\n",
    "ax.boxplot(dataset.surface)"
   ]
  },
  {
   "cell_type": "markdown",
   "metadata": {},
   "source": [
    "### Conjunto final"
   ]
  },
  {
   "cell_type": "markdown",
   "metadata": {},
   "source": [
    "Con todo los procedimientos realizados anteriormente obtenemos el siguiente resultado:"
   ]
  },
  {
   "cell_type": "code",
   "execution_count": 15,
   "metadata": {},
   "outputs": [
    {
     "data": {
      "text/html": [
       "<div>\n",
       "<style scoped>\n",
       "    .dataframe tbody tr th:only-of-type {\n",
       "        vertical-align: middle;\n",
       "    }\n",
       "\n",
       "    .dataframe tbody tr th {\n",
       "        vertical-align: top;\n",
       "    }\n",
       "\n",
       "    .dataframe thead th {\n",
       "        text-align: right;\n",
       "    }\n",
       "</style>\n",
       "<table border=\"1\" class=\"dataframe\">\n",
       "  <thead>\n",
       "    <tr style=\"text-align: right;\">\n",
       "      <th></th>\n",
       "      <th>_id</th>\n",
       "      <th>zipCode</th>\n",
       "      <th>buildingType</th>\n",
       "      <th>buildingSubtype</th>\n",
       "      <th>clientId</th>\n",
       "      <th>clientTypeId</th>\n",
       "      <th>dateOriginal</th>\n",
       "      <th>bathrooms</th>\n",
       "      <th>balcony</th>\n",
       "      <th>air_conditioner</th>\n",
       "      <th>...</th>\n",
       "      <th>isPackPremiumPriority</th>\n",
       "      <th>isNewConstruction</th>\n",
       "      <th>hasOpenHouse</th>\n",
       "      <th>isOpportunity</th>\n",
       "      <th>minPrice</th>\n",
       "      <th>otherFeaturesCount</th>\n",
       "      <th>price</th>\n",
       "      <th>periodicityId</th>\n",
       "      <th>history</th>\n",
       "      <th>lastAccess</th>\n",
       "    </tr>\n",
       "  </thead>\n",
       "  <tbody>\n",
       "    <tr>\n",
       "      <th>0</th>\n",
       "      <td>1</td>\n",
       "      <td>28023.0</td>\n",
       "      <td>Flat</td>\n",
       "      <td>GroundFloorWithGarden</td>\n",
       "      <td>id-1</td>\n",
       "      <td>3.0</td>\n",
       "      <td>2022-02-24</td>\n",
       "      <td>2.0</td>\n",
       "      <td>0.0</td>\n",
       "      <td>0.0</td>\n",
       "      <td>...</td>\n",
       "      <td>True</td>\n",
       "      <td>False</td>\n",
       "      <td>False</td>\n",
       "      <td>False</td>\n",
       "      <td>0.0</td>\n",
       "      <td>15.0</td>\n",
       "      <td>1325.0</td>\n",
       "      <td>3.0</td>\n",
       "      <td>[{'date': '2022-04-04', 'price': 1325}]</td>\n",
       "      <td>2022-04-11 07:48:19.078000</td>\n",
       "    </tr>\n",
       "    <tr>\n",
       "      <th>1</th>\n",
       "      <td>2</td>\n",
       "      <td>28023.0</td>\n",
       "      <td>Flat</td>\n",
       "      <td>Flat</td>\n",
       "      <td>id-1</td>\n",
       "      <td>3.0</td>\n",
       "      <td>2022-02-23</td>\n",
       "      <td>2.0</td>\n",
       "      <td>0.0</td>\n",
       "      <td>0.0</td>\n",
       "      <td>...</td>\n",
       "      <td>True</td>\n",
       "      <td>False</td>\n",
       "      <td>False</td>\n",
       "      <td>False</td>\n",
       "      <td>0.0</td>\n",
       "      <td>15.0</td>\n",
       "      <td>1120.0</td>\n",
       "      <td>3.0</td>\n",
       "      <td>[{'date': '2022-04-04', 'price': 1120}]</td>\n",
       "      <td>2022-04-11 07:48:19.139000</td>\n",
       "    </tr>\n",
       "    <tr>\n",
       "      <th>2</th>\n",
       "      <td>3</td>\n",
       "      <td>28052.0</td>\n",
       "      <td>Flat</td>\n",
       "      <td>GroundFloorWithGarden</td>\n",
       "      <td>id-2</td>\n",
       "      <td>3.0</td>\n",
       "      <td>2022-03-10</td>\n",
       "      <td>2.0</td>\n",
       "      <td>0.0</td>\n",
       "      <td>0.0</td>\n",
       "      <td>...</td>\n",
       "      <td>True</td>\n",
       "      <td>False</td>\n",
       "      <td>False</td>\n",
       "      <td>False</td>\n",
       "      <td>0.0</td>\n",
       "      <td>18.0</td>\n",
       "      <td>1095.0</td>\n",
       "      <td>3.0</td>\n",
       "      <td>[{'date': '2022-04-04', 'price': 1095}]</td>\n",
       "      <td>2022-04-11 07:49:27.115000</td>\n",
       "    </tr>\n",
       "    <tr>\n",
       "      <th>3</th>\n",
       "      <td>4</td>\n",
       "      <td>28050.0</td>\n",
       "      <td>Flat</td>\n",
       "      <td>Flat</td>\n",
       "      <td>id-2</td>\n",
       "      <td>3.0</td>\n",
       "      <td>2022-03-01</td>\n",
       "      <td>2.0</td>\n",
       "      <td>0.0</td>\n",
       "      <td>0.0</td>\n",
       "      <td>...</td>\n",
       "      <td>True</td>\n",
       "      <td>False</td>\n",
       "      <td>False</td>\n",
       "      <td>False</td>\n",
       "      <td>0.0</td>\n",
       "      <td>17.0</td>\n",
       "      <td>1045.0</td>\n",
       "      <td>3.0</td>\n",
       "      <td>[{'date': '2022-04-04', 'price': 1045}]</td>\n",
       "      <td>2022-04-11 07:48:19.195000</td>\n",
       "    </tr>\n",
       "    <tr>\n",
       "      <th>4</th>\n",
       "      <td>5</td>\n",
       "      <td>28001.0</td>\n",
       "      <td>Flat</td>\n",
       "      <td>Flat</td>\n",
       "      <td>id-3</td>\n",
       "      <td>3.0</td>\n",
       "      <td>2022-02-24</td>\n",
       "      <td>3.0</td>\n",
       "      <td>1.0</td>\n",
       "      <td>1.0</td>\n",
       "      <td>...</td>\n",
       "      <td>True</td>\n",
       "      <td>False</td>\n",
       "      <td>False</td>\n",
       "      <td>False</td>\n",
       "      <td>0.0</td>\n",
       "      <td>19.0</td>\n",
       "      <td>6550.0</td>\n",
       "      <td>3.0</td>\n",
       "      <td>[{'date': '2022-04-04', 'price': 6550}]</td>\n",
       "      <td>2022-04-11 07:48:19.251000</td>\n",
       "    </tr>\n",
       "  </tbody>\n",
       "</table>\n",
       "<p>5 rows × 31 columns</p>\n",
       "</div>"
      ],
      "text/plain": [
       "   _id  zipCode buildingType        buildingSubtype clientId  clientTypeId  \\\n",
       "0    1  28023.0         Flat  GroundFloorWithGarden     id-1           3.0   \n",
       "1    2  28023.0         Flat                   Flat     id-1           3.0   \n",
       "2    3  28052.0         Flat  GroundFloorWithGarden     id-2           3.0   \n",
       "3    4  28050.0         Flat                   Flat     id-2           3.0   \n",
       "4    5  28001.0         Flat                   Flat     id-3           3.0   \n",
       "\n",
       "  dateOriginal  bathrooms  balcony  air_conditioner  ...  \\\n",
       "0   2022-02-24        2.0      0.0              0.0  ...   \n",
       "1   2022-02-23        2.0      0.0              0.0  ...   \n",
       "2   2022-03-10        2.0      0.0              0.0  ...   \n",
       "3   2022-03-01        2.0      0.0              0.0  ...   \n",
       "4   2022-02-24        3.0      1.0              1.0  ...   \n",
       "\n",
       "   isPackPremiumPriority  isNewConstruction  hasOpenHouse  isOpportunity  \\\n",
       "0                   True              False         False          False   \n",
       "1                   True              False         False          False   \n",
       "2                   True              False         False          False   \n",
       "3                   True              False         False          False   \n",
       "4                   True              False         False          False   \n",
       "\n",
       "   minPrice  otherFeaturesCount   price  periodicityId  \\\n",
       "0       0.0                15.0  1325.0            3.0   \n",
       "1       0.0                15.0  1120.0            3.0   \n",
       "2       0.0                18.0  1095.0            3.0   \n",
       "3       0.0                17.0  1045.0            3.0   \n",
       "4       0.0                19.0  6550.0            3.0   \n",
       "\n",
       "                                   history                  lastAccess  \n",
       "0  [{'date': '2022-04-04', 'price': 1325}]  2022-04-11 07:48:19.078000  \n",
       "1  [{'date': '2022-04-04', 'price': 1120}]  2022-04-11 07:48:19.139000  \n",
       "2  [{'date': '2022-04-04', 'price': 1095}]  2022-04-11 07:49:27.115000  \n",
       "3  [{'date': '2022-04-04', 'price': 1045}]  2022-04-11 07:48:19.195000  \n",
       "4  [{'date': '2022-04-04', 'price': 6550}]  2022-04-11 07:48:19.251000  \n",
       "\n",
       "[5 rows x 31 columns]"
      ]
     },
     "execution_count": 15,
     "metadata": {},
     "output_type": "execute_result"
    }
   ],
   "source": [
    "dataset.head()"
   ]
  },
  {
   "cell_type": "markdown",
   "metadata": {},
   "source": [
    "El cual guardamos en nuestra carpeta *data*:"
   ]
  },
  {
   "cell_type": "code",
   "execution_count": 16,
   "metadata": {},
   "outputs": [],
   "source": [
    "dataset.to_csv(\"../data/madrid-rent-prices_cleaned.csv\")"
   ]
  }
 ],
 "metadata": {
  "kernelspec": {
   "display_name": "Python 3",
   "language": "python",
   "name": "python3"
  },
  "language_info": {
   "codemirror_mode": {
    "name": "ipython",
    "version": 3
   },
   "file_extension": ".py",
   "mimetype": "text/x-python",
   "name": "python",
   "nbconvert_exporter": "python",
   "pygments_lexer": "ipython3",
   "version": "3.8.3"
  }
 },
 "nbformat": 4,
 "nbformat_minor": 4
}
