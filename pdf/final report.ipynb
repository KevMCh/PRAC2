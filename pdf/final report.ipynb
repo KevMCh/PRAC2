{
 "cells": [
  {
   "cell_type": "markdown",
   "id": "4a049cc5",
   "metadata": {},
   "source": [
    "# _Universitat Oberta de Catalunya (UOC)_\n",
    "## Master Universitario en Ciencia de Datos (Data Science)\n",
    "### Tipología y ciclo de vida de los datos\n",
    "\n",
    "### PRA2 - _Limpieza y análisis de datos_"
   ]
  },
  {
   "cell_type": "markdown",
   "id": "bff69cb1",
   "metadata": {},
   "source": [
    "### 1. Descripción del problema\n",
    "\n",
    "El proyecto que se presenta es una continuación de la [primera práctica](https://github.com/jvruoc/rent_prices) en la que se creó un conjunto de datos de pisos y casas en alquiler de la web Fotocasa, que corresponden con toda la oferta de alquiler publicada en esta web para la ciudad de Madrid. Cada registro del conjunto de datos representa una casa/piso de alquiler con sus características. \n",
    "\n",
    "Los datos de este dataset se recogieron entre el 4-4-2022 y el 11-4-2022, lanzando dos procesos diarios de web scraping. En cada proceso se incluían los nuevos anuncios publicados y se actualizaban los siguientes datos de los ya existentes:\n",
    "* Fecha de último acceso. Se actualizaba la fecha en la que se accedía al anuncio para tener trazabilidad de cuando desaparecía.\n",
    "* Histórico de cambios en el precio de alquiler publicado (por comparación con el último registrado)\n",
    "\n",
    "Nos podemos encontrar con muchos datasets que tienen información similar a la indicada, pero este datasets incorpora dos datos que no suelen estar registados, el tiempo de vigencia del anuncio y el histórico de precios durante el tiempo que estuvo publicado. Esta información nos permite enfocarnos hacia la construcción de modelos que intenten predecir cuestiones que tienen que ver con el proceso de alquiler, por ejemplo:\n",
    "\n",
    "* ¿Qué precio de renta elegir si quiero que se alquile en menos de x días?\n",
    "* ¿En qué época del año es más sencillo que se alquile una vivienda?\n",
    "* Estudios sobre series temporales relativas a los inmuebles en alquiler\n",
    "* Con las características de un inmueble, ¿Cuánto tiempo tardará en alquilarse el inmueble?\n",
    "\n",
    "En esta práctica se va a realizar un modelo que ayude en el establecimiento del precio de la renta en función del resto de características del inmueble. Es decir, se creará un modelo supervisado de regresión.\n",
    "\n",
    "### 2. Justificación selección datos\n",
    "![](images/seleccion_datos_regresión.png)\n",
    "\n",
    "Por las caracteríticas del proceso de extracción, en el dataset nos encontramos anuncios publicados antes de la primera fecha de proceso y que todavía permanecen activos (Supervivientes), pero no van a existir, como es lógico, ningún anuncio que se haya retirado antes de la fecha del primer proceso de extracción (En rojo, \"No registrados\"). Para no sesgar el modelo con información de inmuebles que se han publicado y todavía no se han vendido (quizás porque el precio no se ajusta a las características), se van a seleccionar sólo los anuncios que se hayan publicado con posterioridad al 4 de abril, de ese modo tendremos en el dataset información tanto de inmuebles que desaparecen pronto de la web, como de aquellos que permanecen más tiempo."
   ]
  },
  {
   "cell_type": "markdown",
   "id": "69401e40",
   "metadata": {},
   "source": [
    "### 2. Descripción del conjunto de datos\n",
    "\n",
    "A continuación se enumeran las distintas características que forman el conjunto de datos original:\n",
    "\n",
    "* _id_: Id. del inmueble, este identificador está anonimizado para que no se pueda asociar al anuncio de origen\n",
    "* _zipCode_: Código postal en el que se encuentra la localidad. Ej: 28023\n",
    "* _buildingType_: Categoría del tipo de inmueble, en la mayoría de los casos se tratan de pisos (Flat).\n",
    "* _buildingSubtype_: Subtipo de inmueble, valor categórico. Ej: GroundFloorWithGarden, Flat, SemiDetached, Attic, ...\n",
    "* _clientId_: Id. del cliente que publica el anuncio. Ej: id-1, id-2, ...\n",
    "* _clientTypeId_: Categoría del tipo de cliente\n",
    "    * _1_: Particular\n",
    "    * _3_: Inmobiliaria  \n",
    "* _dateOriginal_: Fecha de publicación del inmueble. Ej: 2022-03-01\n",
    "* _bathrooms_: Cantidad de baños (valor numérico). Ej: 2\n",
    "* _balcony_: Balcón, valor binario tiene o no tiene este extra (0 ó 1)\n",
    "* _air conditioner_: Aire acondicionado, valor binario tiene o no tiene este extra (0 ó 1)\n",
    "* _heater_: Calentador, valor binario tiene o no tiene este extra (0 ó 1)\n",
    "* _heating_: Calefacción, valor binario tiene o no tiene este extra (0 ó 1)\n",
    "* _swimming pool_: Piscina, valor binario tiene o no tiene este extra (0 ó 1)\n",
    "* _parking_: Parking propio, valor binario tiene o no tiene este extra (0 ó 1)\n",
    "* _conservationState_: Estado de conservación valor categórico:\n",
    "    * _1_: Casi nuevo\n",
    "    * _2_: Muy bueno\n",
    "    * _3_: Bueno\n",
    "    * _4_: A reformar\n",
    "    * _8_: Reformado\n",
    "* _floor_: Planta en la que se sitúa el piso. Ej: 4\n",
    "* _terrace_: Terrazas, valor binario tiene o no tiene este extra (0 ó 1 )\n",
    "* _elevator_: Ascensores, valor binario tiene o no tiene este extra (0 ó 1 )\n",
    "* _rooms_: Número de habitaciones. Ej: 3\n",
    "* _surface_: Superficie de la vivienda en m². Ej: 102\n",
    "* _isHighlighted_: Valor binario que define si el inmueble está destacado o no (0 ó 1 )\n",
    "* _isPackPremiumPriority_: Anuncio premium, valor binario (0 ó 1 )\n",
    "* _isNewConstruction_: Es de nueva construcción, valor binario (0 ó 1 )\n",
    "* _hasOpenHouse_: Visita libre, valor binario (0 ó 1 )\n",
    "* _isOpportunity_: Es una oportunidad, valor binario (0 ó 1 )\n",
    "* _minPrice_: Precio mínimo aceptado. Ej: 0\n",
    "* _otherFeaturesCount_: Cantidad de características adicionales, valor numérico. Ej: 15\n",
    "* _price_: Precio del alquiler. Ej: 1325\n",
    "* _periodicityId_: Periodicidad de pago del alquiler.\n",
    "    * _0_: Desconocido\n",
    "    * _3_: Mensual\n",
    "* _history_: Historial de precios del inmueble. Ej: [{'date': '2022-04-04', 'price': 1120}]\n",
    "* _lastAccess_: Ultima fecha de acceso a la obtención de los datos. Ej: '2022-04-09 16:55:15.693000'"
   ]
  },
  {
   "cell_type": "markdown",
   "id": "4f5ffc21",
   "metadata": {},
   "source": [
    "### Contribuciones\n",
    "\n",
    "En este apartado se reflejan las contribuciones realizadas por cada uno de los autores en las\n",
    "diversas tareas realizadas. Las iniciales en la sección de firma representan la confirmación por\n",
    "parte del autor de su participación en el apartado correspondiente.\n",
    "\n",
    "| Contribución  | Firma   |\n",
    "|---------------|---------|\n",
    "| Planteamiento del problema | KM - JV  |\n",
    "| Limpieza del dataset       | KM - JV  |\n",
    "| Análisis estadístico       | KM - JV  |\n",
    "| Modelo del problema        | KM - JV  |"
   ]
  },
  {
   "cell_type": "code",
   "execution_count": null,
   "id": "0ddde736-c40f-4741-b0ae-93afb6be1ce7",
   "metadata": {},
   "outputs": [],
   "source": []
  }
 ],
 "metadata": {
  "interpreter": {
   "hash": "c6636e48f7d32552a84c646861e5bc4efec0043ee8e5b0e04c59944cc572b6f6"
  },
  "kernelspec": {
   "display_name": "Python 3 (ipykernel)",
   "language": "python",
   "name": "python3"
  },
  "language_info": {
   "codemirror_mode": {
    "name": "ipython",
    "version": 3
   },
   "file_extension": ".py",
   "mimetype": "text/x-python",
   "name": "python",
   "nbconvert_exporter": "python",
   "pygments_lexer": "ipython3",
   "version": "3.9.5"
  }
 },
 "nbformat": 4,
 "nbformat_minor": 5
}
