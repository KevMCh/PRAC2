{
 "cells": [
  {
   "cell_type": "markdown",
   "id": "4a049cc5",
   "metadata": {},
   "source": [
    "# _Universitat Oberta de Catalunya (UOC)_\n",
    "## Master Universitario en Ciencia de Datos (Data Science)\n",
    "\n",
    "### Tipología y ciclo de vida de los datos\n",
    "\n",
    "#### PRA2 - _Limpieza y análisis de datos_"
   ]
  },
  {
   "cell_type": "markdown",
   "id": "bff69cb1",
   "metadata": {},
   "source": [
    "### 1. Descripción del dataset\n",
    "\n",
    "El proyecto aquí presentado es una continuación de la [primera práctica](https://github.com/jvruoc/rent_prices) en la que se creó un conjunto de datos de pisos y casas en alquiler de la web Fotocasa, cada registro del conjunto representa una casa/piso de alquiler con sus características. En este caso se pretende trabajar gracias a estos datos recolectados para aplicar técnicas de regresión para predecir los precios de una vivienda según sus características e incluso aplicar diversos análisis que nos permitan determinar tiempos de alquiler en las viviendas."
   ]
  },
  {
   "cell_type": "markdown",
   "id": "69401e40",
   "metadata": {},
   "source": [
    "### 2. Descripción del conjunto de datos\n",
    "\n",
    "A continuación se enumeran las distintas características que forman el conjunto de datos original:\n",
    "\n",
    "* _id_: Id. del inmueble, este identificador está anonimizado para que no se pueda asociar al anuncio de origen\n",
    "* _zipCode_: Código postal en el que se encuentra la localidad. Ej: 28023\n",
    "* _buildingType_: Categoría del tipo de inmueble, en la mayoría de los casos se tratan de pisos (Flat).\n",
    "* _buildingSubtype_: Subtipo de inmueble, valor categórico. Ej: GroundFloorWithGarden, Flat, SemiDetached, Attic, ...\n",
    "* _clientId_: Id. del cliente que publica el anuncio. Ej: id-1, id-2, ...\n",
    "* _clientTypeId_: Categoría del tipo de cliente\n",
    "    * _1_: Particular\n",
    "    * _2_: Inmobiliaria  \n",
    "* _dateOriginal_: Fecha de publicación del inmueble. Ej: 2022-03-01\n",
    "* _bathrooms_: Cantidad de baños (valor numérico). Ej: 2\n",
    "* _balcony_: Balcón, valor binario tiene o no tiene este extra (0 ó 1)\n",
    "* _air conditioner_: Aire acondicionado, valor binario tiene o no tiene este extra (0 ó 1)\n",
    "* _heater_: Calentador, valor binario tiene o no tiene este extra (0 ó 1)\n",
    "* _heating_: Calefacción, valor binario tiene o no tiene este extra (0 ó 1)\n",
    "* _swimming pool_: Piscina, valor binario tiene o no tiene este extra (0 ó 1)\n",
    "* _parking_: Parking propio, valor binario tiene o no tiene este extra (0 ó 1)\n",
    "* _conservationState_: Estado de conservación valor categórico:\n",
    "    * _1_: Casi nuevo\n",
    "    * _2_: Muy bueno\n",
    "    * _3_: Bueno\n",
    "    * _4_: A reformar\n",
    "    * _8_: Reformado\n",
    "* _floor_: Planta en la que se sitúa el piso. Ej: 4\n",
    "* _terrace_: Terrazas, valor binario tiene o no tiene este extra (0 ó 1 )\n",
    "* _elevator_: Ascensores, valor binario tiene o no tiene este extra (0 ó 1 )\n",
    "* _rooms_: Número de habitaciones. Ej: 3\n",
    "* _surface_: Superficie de la vivienda en m². Ej: 102\n",
    "* _isHighlighted_: Valor binario que define si el inmueble está destacado o no (0 ó 1 )\n",
    "* _isPackPremiumPriority_: Anuncio premium, valor binario (0 ó 1 )\n",
    "* _isNewConstruction_: Es de nueva construcción, valor binario (0 ó 1 )\n",
    "* _hasOpenHouse_: Visita libre, valor binario (0 ó 1 )\n",
    "* _isOpportunity_: Es una oportunidad, valor binario (0 ó 1 )\n",
    "* _minPrice_: Precio mínimo aceptado. Ej: 0\n",
    "* _otherFeaturesCount_: Cantidad de características adicionales, valor numérico. Ej: 15\n",
    "* _price_: Precio del alquiler. Ej: 1325\n",
    "* _periodicityId_: Periodicidad de pago del alquiler.\n",
    "    * _0_: Desconocido\n",
    "    * _3_: Mensual\n",
    "* _history_: Historial de precios del inmueble. Ej: ['date': '2022-04-04', 'price': 1120]\n",
    "* _lastAccess_: Ultima fecha de acceso a la obtención de los datos. Ej: '2022-04-09 16:55:15.693000'"
   ]
  },
  {
   "cell_type": "markdown",
   "id": "4f5ffc21",
   "metadata": {},
   "source": [
    "### Contribuciones\n",
    "\n",
    "En este apartado se reflejan las contribuciones realizadas por cada uno de los autores en las\n",
    "diversas tareas realizadas. Las iniciales en la sección de firma representan la confirmación por\n",
    "parte del autor de su participación en el apartado correspondiente.\n",
    "\n",
    "| Contribución  | Firma   |\n",
    "|---------------|---------|\n",
    "|               |         |\n",
    "|               |         |\n",
    "|               |         |"
   ]
  }
 ],
 "metadata": {
  "kernelspec": {
   "display_name": "Python 3",
   "language": "python",
   "name": "python3"
  },
  "language_info": {
   "codemirror_mode": {
    "name": "ipython",
    "version": 3
   },
   "file_extension": ".py",
   "mimetype": "text/x-python",
   "name": "python",
   "nbconvert_exporter": "python",
   "pygments_lexer": "ipython3",
   "version": "3.8.8"
  }
 },
 "nbformat": 4,
 "nbformat_minor": 5
}
